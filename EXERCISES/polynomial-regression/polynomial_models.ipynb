{
 "cells": [
  {
   "cell_type": "markdown",
   "metadata": {
    "id": "lX0fk5BKpk-f"
   },
   "source": [
    "### Model Complexity and Evaluation\n",
    "\n"
   ]
  },
  {
   "cell_type": "code",
   "execution_count": 1,
   "metadata": {
    "id": "nCedekivpk-h"
   },
   "outputs": [],
   "source": [
    "import matplotlib.pyplot as plt\n",
    "import numpy as np\n",
    "import pandas as pd\n",
    "from sklearn.linear_model import LinearRegression\n",
    "from sklearn.metrics import mean_squared_error"
   ]
  },
  {
   "cell_type": "markdown",
   "metadata": {
    "id": "dsbPBpT0pk-h"
   },
   "source": [
    "### Polynomial Models\n",
    "\n",
    "Thus far, our regression models have taken the form:\n",
    "\n",
    "$$y = \\beta_0 + \\beta_1x_1 + \\beta_2x_2 + ... + \\beta_ix_i$$\n",
    "\n",
    "where all our inputs to the model were linear.  \n",
    "\n",
    "\n",
    "In this notebook, we consider models of the form:\n",
    "\n",
    "$$y = \\beta_0 + \\beta_1x_1 + \\beta_2x_1^2 + ... + \\beta_ix_1^i$$"
   ]
  },
  {
   "cell_type": "markdown",
   "metadata": {
    "id": "6c_-Pe69pk-h"
   },
   "source": [
    "These are commonly referred to as *Polynomial Regression Models* -- however we are still using Linear Regression because the unknown quantities -- $\\beta$ -- are linear."
   ]
  },
  {
   "cell_type": "code",
   "execution_count": 3,
   "metadata": {
    "id": "-X4G5dmCpk-i"
   },
   "outputs": [],
   "source": [
    "#load in the cars data\n",
    "cars = pd.read_csv('data/cars.csv')"
   ]
  },
  {
   "cell_type": "code",
   "execution_count": 4,
   "metadata": {
    "colab": {
     "base_uri": "https://localhost:8080/",
     "height": 112
    },
    "id": "N12V_ZdApk-i",
    "outputId": "12ccd89a-17b4-4872-cf1d-3a6613213e8e"
   },
   "outputs": [
    {
     "data": {
      "text/html": [
       "<div>\n",
       "<style scoped>\n",
       "    .dataframe tbody tr th:only-of-type {\n",
       "        vertical-align: middle;\n",
       "    }\n",
       "\n",
       "    .dataframe tbody tr th {\n",
       "        vertical-align: top;\n",
       "    }\n",
       "\n",
       "    .dataframe thead th {\n",
       "        text-align: right;\n",
       "    }\n",
       "</style>\n",
       "<table border=\"1\" class=\"dataframe\">\n",
       "  <thead>\n",
       "    <tr style=\"text-align: right;\">\n",
       "      <th></th>\n",
       "      <th>mpg</th>\n",
       "      <th>cyl</th>\n",
       "      <th>disp</th>\n",
       "      <th>hp</th>\n",
       "      <th>drat</th>\n",
       "      <th>wt</th>\n",
       "      <th>qsec</th>\n",
       "      <th>vs</th>\n",
       "      <th>am</th>\n",
       "      <th>gear</th>\n",
       "      <th>carb</th>\n",
       "    </tr>\n",
       "  </thead>\n",
       "  <tbody>\n",
       "    <tr>\n",
       "      <th>0</th>\n",
       "      <td>21.0</td>\n",
       "      <td>6</td>\n",
       "      <td>160.0</td>\n",
       "      <td>110</td>\n",
       "      <td>3.9</td>\n",
       "      <td>2.620</td>\n",
       "      <td>16.46</td>\n",
       "      <td>0</td>\n",
       "      <td>1</td>\n",
       "      <td>4</td>\n",
       "      <td>4</td>\n",
       "    </tr>\n",
       "    <tr>\n",
       "      <th>1</th>\n",
       "      <td>21.0</td>\n",
       "      <td>6</td>\n",
       "      <td>160.0</td>\n",
       "      <td>110</td>\n",
       "      <td>3.9</td>\n",
       "      <td>2.875</td>\n",
       "      <td>17.02</td>\n",
       "      <td>0</td>\n",
       "      <td>1</td>\n",
       "      <td>4</td>\n",
       "      <td>4</td>\n",
       "    </tr>\n",
       "  </tbody>\n",
       "</table>\n",
       "</div>"
      ],
      "text/plain": [
       "    mpg  cyl   disp   hp  drat     wt   qsec  vs  am  gear  carb\n",
       "0  21.0    6  160.0  110   3.9  2.620  16.46   0   1     4     4\n",
       "1  21.0    6  160.0  110   3.9  2.875  17.02   0   1     4     4"
      ]
     },
     "execution_count": 4,
     "metadata": {},
     "output_type": "execute_result"
    }
   ],
   "source": [
    "cars.head(2)"
   ]
  },
  {
   "cell_type": "code",
   "execution_count": 19,
   "metadata": {
    "id": "PyU_RI_1pk-i"
   },
   "outputs": [],
   "source": [
    "#x = mpg and y = hp\n",
    "X = cars[['mpg']]\n",
    "y = cars['hp']"
   ]
  },
  {
   "cell_type": "code",
   "execution_count": 6,
   "metadata": {
    "colab": {
     "base_uri": "https://localhost:8080/",
     "height": 282
    },
    "id": "d6dxFpFRpk-i",
    "outputId": "ac458223-4367-4f82-876d-6f83758f8a1f"
   },
   "outputs": [
    {
     "data": {
      "text/plain": [
       "<matplotlib.collections.PathCollection at 0x31bd118d0>"
      ]
     },
     "execution_count": 6,
     "metadata": {},
     "output_type": "execute_result"
    },
    {
     "data": {
      "image/png": "[encoded data removed]",
      "text/plain": [
       "<Figure size 640x480 with 1 Axes>"
      ]
     },
     "metadata": {},
     "output_type": "display_data"
    }
   ],
   "source": [
    "#scatter plot of x vs. y\n",
    "plt.scatter(X, y)"
   ]
  },
  {
   "cell_type": "markdown",
   "metadata": {
    "id": "T1j_TD2jpk-i"
   },
   "source": [
    "### Reminder on Least Squares\n",
    "\n",
    "$$f(m, b) = \\sum_{i = 1}^n (y_i - (mx_i + b))^2$$"
   ]
  },
  {
   "cell_type": "markdown",
   "metadata": {},
   "source": [
    "**Assumptions of the model**\n",
    "\n",
    "- The relationship between features and target are linear in nature\n",
    "- The features are independent of one another\n",
    "- The errors are normally distributed\n",
    "- The residuals have constant variance across all feature values"
   ]
  },
  {
   "cell_type": "code",
   "execution_count": 20,
   "metadata": {
    "id": "p9OmCB2Opk-j"
   },
   "outputs": [],
   "source": [
    "#fit model\n",
    "lr = LinearRegression()\n",
    "lr.fit(X, y)\n",
    "preds = lr.predict(X)"
   ]
  },
  {
   "cell_type": "code",
   "execution_count": 21,
   "metadata": {
    "colab": {
     "base_uri": "https://localhost:8080/",
     "height": 232
    },
    "id": "ShYUlEKupk-j",
    "outputId": "fcdc7fab-ccc4-4fd5-8197-aa40a5c53250"
   },
   "outputs": [
    {
     "data": {
      "text/plain": [
       "[<matplotlib.lines.Line2D at 0x31e4c1a90>]"
      ]
     },
     "execution_count": 21,
     "metadata": {},
     "output_type": "execute_result"
    },
    {
     "data": {
      "image/png": "[encoded data removed]",
      "text/plain": [
       "<Figure size 2000x300 with 3 Axes>"
      ]
     },
     "metadata": {},
     "output_type": "display_data"
    }
   ],
   "source": [
    "#plot residuals\n",
    "resids = (y - preds)\n",
    "\n",
    "fig, ax = plt.subplots(1, 3, figsize = (20, 3))\n",
    "\n",
    "ax[0].plot(resids, 'o')\n",
    "ax[0].axhline(color = 'black')\n",
    "ax[1].hist(resids)\n",
    "ax[2].scatter(X['mpg'], y)\n",
    "ax[2].plot(X['mpg'], lr.predict(X))"
   ]
  },
  {
   "cell_type": "code",
   "execution_count": 22,
   "metadata": {
    "id": "j_PKJBIupk-j"
   },
   "outputs": [
    {
     "data": {
      "text/plain": [
       "1810.4863703431888"
      ]
     },
     "execution_count": 22,
     "metadata": {},
     "output_type": "execute_result"
    }
   ],
   "source": [
    "#Any assumptions violated?  Why?\n",
    "mean_squared_error(y, lr.predict(X))"
   ]
  },
  {
   "cell_type": "markdown",
   "metadata": {
    "id": "uTRrU5Igpk-j"
   },
   "source": [
    "### Reminder: Quadratics\n",
    "\n",
    "$$f(x) = ax^2 + bx + c$$\n",
    "\n",
    "\n",
    "$$f(a, b, c) = \\sum_{i = 1}^n (y_i - (ax_i^2 + bx_i + c))^2$$"
   ]
  },
  {
   "cell_type": "markdown",
   "metadata": {
    "id": "IwZdDCzQpk-j"
   },
   "source": [
    "In plain language, we add a new feature to represent the quadratic term and fit a linear regressor to these columns, essentially what we've done with multiple regression."
   ]
  },
  {
   "cell_type": "code",
   "execution_count": 9,
   "metadata": {
    "colab": {
     "base_uri": "https://localhost:8080/",
     "height": 206
    },
    "id": "_jXJM7OFpk-j",
    "outputId": "e7f44ac0-0d8a-4ff7-c1f5-3853a4f211df"
   },
   "outputs": [
    {
     "data": {
      "text/html": [
       "<div>\n",
       "<style scoped>\n",
       "    .dataframe tbody tr th:only-of-type {\n",
       "        vertical-align: middle;\n",
       "    }\n",
       "\n",
       "    .dataframe tbody tr th {\n",
       "        vertical-align: top;\n",
       "    }\n",
       "\n",
       "    .dataframe thead th {\n",
       "        text-align: right;\n",
       "    }\n",
       "</style>\n",
       "<table border=\"1\" class=\"dataframe\">\n",
       "  <thead>\n",
       "    <tr style=\"text-align: right;\">\n",
       "      <th></th>\n",
       "      <th>mpg</th>\n",
       "    </tr>\n",
       "  </thead>\n",
       "  <tbody>\n",
       "    <tr>\n",
       "      <th>0</th>\n",
       "      <td>21.0</td>\n",
       "    </tr>\n",
       "    <tr>\n",
       "      <th>1</th>\n",
       "      <td>21.0</td>\n",
       "    </tr>\n",
       "    <tr>\n",
       "      <th>2</th>\n",
       "      <td>22.8</td>\n",
       "    </tr>\n",
       "    <tr>\n",
       "      <th>3</th>\n",
       "      <td>21.4</td>\n",
       "    </tr>\n",
       "    <tr>\n",
       "      <th>4</th>\n",
       "      <td>18.7</td>\n",
       "    </tr>\n",
       "  </tbody>\n",
       "</table>\n",
       "</div>"
      ],
      "text/plain": [
       "    mpg\n",
       "0  21.0\n",
       "1  21.0\n",
       "2  22.8\n",
       "3  21.4\n",
       "4  18.7"
      ]
     },
     "execution_count": 9,
     "metadata": {},
     "output_type": "execute_result"
    }
   ],
   "source": [
    "#examine X\n",
    "X.head()"
   ]
  },
  {
   "cell_type": "code",
   "execution_count": 11,
   "metadata": {
    "colab": {
     "base_uri": "https://localhost:8080/"
    },
    "id": "i6N7Sdt_pk-k",
    "outputId": "db431da4-432e-485f-8b1c-8d49c3f2cffa"
   },
   "outputs": [
    {
     "name": "stderr",
     "output_type": "stream",
     "text": [
      "/var/folders/xc/bw1zddcx3f58lp0vxlymm23h0000gn/T/ipykernel_8421/889914155.py:2: SettingWithCopyWarning: \n",
      "A value is trying to be set on a copy of a slice from a DataFrame.\n",
      "Try using .loc[row_indexer,col_indexer] = value instead\n",
      "\n",
      "See the caveats in the documentation: https://pandas.pydata.org/pandas-docs/stable/user_guide/indexing.html#returning-a-view-versus-a-copy\n",
      "  X[\"mpg_sq\"] = pd.Series([i**2 for i in X[\"mpg\"]])\n"
     ]
    }
   ],
   "source": [
    "#add new feature\n",
    "X[\"mpg_sq\"] = pd.Series([i**2 for i in X[\"mpg\"]])"
   ]
  },
  {
   "cell_type": "code",
   "execution_count": 12,
   "metadata": {
    "colab": {
     "base_uri": "https://localhost:8080/",
     "height": 206
    },
    "id": "7G0o1YqPpk-k",
    "outputId": "5f2ee418-c6a3-4caa-95f3-f8e1a31f8f14"
   },
   "outputs": [
    {
     "data": {
      "text/html": [
       "<div>\n",
       "<style scoped>\n",
       "    .dataframe tbody tr th:only-of-type {\n",
       "        vertical-align: middle;\n",
       "    }\n",
       "\n",
       "    .dataframe tbody tr th {\n",
       "        vertical-align: top;\n",
       "    }\n",
       "\n",
       "    .dataframe thead th {\n",
       "        text-align: right;\n",
       "    }\n",
       "</style>\n",
       "<table border=\"1\" class=\"dataframe\">\n",
       "  <thead>\n",
       "    <tr style=\"text-align: right;\">\n",
       "      <th></th>\n",
       "      <th>mpg</th>\n",
       "      <th>mpg_sq</th>\n",
       "    </tr>\n",
       "  </thead>\n",
       "  <tbody>\n",
       "    <tr>\n",
       "      <th>0</th>\n",
       "      <td>21.0</td>\n",
       "      <td>441.00</td>\n",
       "    </tr>\n",
       "    <tr>\n",
       "      <th>1</th>\n",
       "      <td>21.0</td>\n",
       "      <td>441.00</td>\n",
       "    </tr>\n",
       "    <tr>\n",
       "      <th>2</th>\n",
       "      <td>22.8</td>\n",
       "      <td>519.84</td>\n",
       "    </tr>\n",
       "    <tr>\n",
       "      <th>3</th>\n",
       "      <td>21.4</td>\n",
       "      <td>457.96</td>\n",
       "    </tr>\n",
       "    <tr>\n",
       "      <th>4</th>\n",
       "      <td>18.7</td>\n",
       "      <td>349.69</td>\n",
       "    </tr>\n",
       "  </tbody>\n",
       "</table>\n",
       "</div>"
      ],
      "text/plain": [
       "    mpg  mpg_sq\n",
       "0  21.0  441.00\n",
       "1  21.0  441.00\n",
       "2  22.8  519.84\n",
       "3  21.4  457.96\n",
       "4  18.7  349.69"
      ]
     },
     "execution_count": 12,
     "metadata": {},
     "output_type": "execute_result"
    }
   ],
   "source": [
    "# check X again\n",
    "X.head()"
   ]
  },
  {
   "cell_type": "code",
   "execution_count": 13,
   "metadata": {
    "colab": {
     "base_uri": "https://localhost:8080/"
    },
    "id": "ksGDx2ejpk-k",
    "outputId": "9dc9291b-2529-431c-f688-b7f1104c04c4"
   },
   "outputs": [
    {
     "data": {
      "text/html": [
       "<style>#sk-container-id-1 {\n",
       "  /* Definition of color scheme common for light and dark mode */\n",
       "  --sklearn-color-text: #000;\n",
       "  --sklearn-color-text-muted: #666;\n",
       "  --sklearn-color-line: gray;\n",
       "  /* Definition of color scheme for unfitted estimators */\n",
       "  --sklearn-color-unfitted-level-0: #fff5e6;\n",
       "  --sklearn-color-unfitted-level-1: #f6e4d2;\n",
       "  --sklearn-color-unfitted-level-2: #ffe0b3;\n",
       "  --sklearn-color-unfitted-level-3: chocolate;\n",
       "  /* Definition of color scheme for fitted estimators */\n",
       "  --sklearn-color-fitted-level-0: #f0f8ff;\n",
       "  --sklearn-color-fitted-level-1: #d4ebff;\n",
       "  --sklearn-color-fitted-level-2: #b3dbfd;\n",
       "  --sklearn-color-fitted-level-3: cornflowerblue;\n",
       "\n",
       "  /* Specific color for light theme */\n",
       "  --sklearn-color-text-on-default-background: var(--sg-text-color, var(--theme-code-foreground, var(--jp-content-font-color1, black)));\n",
       "  --sklearn-color-background: var(--sg-background-color, var(--theme-background, var(--jp-layout-color0, white)));\n",
       "  --sklearn-color-border-box: var(--sg-text-color, var(--theme-code-foreground, var(--jp-content-font-color1, black)));\n",
       "  --sklearn-color-icon: #696969;\n",
       "\n",
       "  @media (prefers-color-scheme: dark) {\n",
       "    /* Redefinition of color scheme for dark theme */\n",
       "    --sklearn-color-text-on-default-background: var(--sg-text-color, var(--theme-code-foreground, var(--jp-content-font-color1, white)));\n",
       "    --sklearn-color-background: var(--sg-background-color, var(--theme-background, var(--jp-layout-color0, #111)));\n",
       "    --sklearn-color-border-box: var(--sg-text-color, var(--theme-code-foreground, var(--jp-content-font-color1, white)));\n",
       "    --sklearn-color-icon: #878787;\n",
       "  }\n",
       "}\n",
       "\n",
       "#sk-container-id-1 {\n",
       "  color: var(--sklearn-color-text);\n",
       "}\n",
       "\n",
       "#sk-container-id-1 pre {\n",
       "  padding: 0;\n",
       "}\n",
       "\n",
       "#sk-container-id-1 input.sk-hidden--visually {\n",
       "  border: 0;\n",
       "  clip: rect(1px 1px 1px 1px);\n",
       "  clip: rect(1px, 1px, 1px, 1px);\n",
       "  height: 1px;\n",
       "  margin: -1px;\n",
       "  overflow: hidden;\n",
       "  padding: 0;\n",
       "  position: absolute;\n",
       "  width: 1px;\n",
       "}\n",
       "\n",
       "#sk-container-id-1 div.sk-dashed-wrapped {\n",
       "  border: 1px dashed var(--sklearn-color-line);\n",
       "  margin: 0 0.4em 0.5em 0.4em;\n",
       "  box-sizing: border-box;\n",
       "  padding-bottom: 0.4em;\n",
       "  background-color: var(--sklearn-color-background);\n",
       "}\n",
       "\n",
       "#sk-container-id-1 div.sk-container {\n",
       "  /* jupyter's `normalize.less` sets `[hidden] { display: none; }`\n",
       "     but bootstrap.min.css set `[hidden] { display: none !important; }`\n",
       "     so we also need the `!important` here to be able to override the\n",
       "     default hidden behavior on the sphinx rendered scikit-learn.org.\n",
       "     See: https://github.com/scikit-learn/scikit-learn/issues/21755 */\n",
       "  display: inline-block !important;\n",
       "  position: relative;\n",
       "}\n",
       "\n",
       "#sk-container-id-1 div.sk-text-repr-fallback {\n",
       "  display: none;\n",
       "}\n",
       "\n",
       "div.sk-parallel-item,\n",
       "div.sk-serial,\n",
       "div.sk-item {\n",
       "  /* draw centered vertical line to link estimators */\n",
       "  background-image: linear-gradient(var(--sklearn-color-text-on-default-background), var(--sklearn-color-text-on-default-background));\n",
       "  background-size: 2px 100%;\n",
       "  background-repeat: no-repeat;\n",
       "  background-position: center center;\n",
       "}\n",
       "\n",
       "/* Parallel-specific style estimator block */\n",
       "\n",
       "#sk-container-id-1 div.sk-parallel-item::after {\n",
       "  content: \"\";\n",
       "  width: 100%;\n",
       "  border-bottom: 2px solid var(--sklearn-color-text-on-default-background);\n",
       "  flex-grow: 1;\n",
       "}\n",
       "\n",
       "#sk-container-id-1 div.sk-parallel {\n",
       "  display: flex;\n",
       "  align-items: stretch;\n",
       "  justify-content: center;\n",
       "  background-color: var(--sklearn-color-background);\n",
       "  position: relative;\n",
       "}\n",
       "\n",
       "#sk-container-id-1 div.sk-parallel-item {\n",
       "  display: flex;\n",
       "  flex-direction: column;\n",
       "}\n",
       "\n",
       "#sk-container-id-1 div.sk-parallel-item:first-child::after {\n",
       "  align-self: flex-end;\n",
       "  width: 50%;\n",
       "}\n",
       "\n",
       "#sk-container-id-1 div.sk-parallel-item:last-child::after {\n",
       "  align-self: flex-start;\n",
       "  width: 50%;\n",
       "}\n",
       "\n",
       "#sk-container-id-1 div.sk-parallel-item:only-child::after {\n",
       "  width: 0;\n",
       "}\n",
       "\n",
       "/* Serial-specific style estimator block */\n",
       "\n",
       "#sk-container-id-1 div.sk-serial {\n",
       "  display: flex;\n",
       "  flex-direction: column;\n",
       "  align-items: center;\n",
       "  background-color: var(--sklearn-color-background);\n",
       "  padding-right: 1em;\n",
       "  padding-left: 1em;\n",
       "}\n",
       "\n",
       "\n",
       "/* Toggleable style: style used for estimator/Pipeline/ColumnTransformer box that is\n",
       "clickable and can be expanded/collapsed.\n",
       "- Pipeline and ColumnTransformer use this feature and define the default style\n",
       "- Estimators will overwrite some part of the style using the `sk-estimator` class\n",
       "*/\n",
       "\n",
       "/* Pipeline and ColumnTransformer style (default) */\n",
       "\n",
       "#sk-container-id-1 div.sk-toggleable {\n",
       "  /* Default theme specific background. It is overwritten whether we have a\n",
       "  specific estimator or a Pipeline/ColumnTransformer */\n",
       "  background-color: var(--sklearn-color-background);\n",
       "}\n",
       "\n",
       "/* Toggleable label */\n",
       "#sk-container-id-1 label.sk-toggleable__label {\n",
       "  cursor: pointer;\n",
       "  display: flex;\n",
       "  width: 100%;\n",
       "  margin-bottom: 0;\n",
       "  padding: 0.5em;\n",
       "  box-sizing: border-box;\n",
       "  text-align: center;\n",
       "  align-items: start;\n",
       "  justify-content: space-between;\n",
       "  gap: 0.5em;\n",
       "}\n",
       "\n",
       "#sk-container-id-1 label.sk-toggleable__label .caption {\n",
       "  font-size: 0.6rem;\n",
       "  font-weight: lighter;\n",
       "  color: var(--sklearn-color-text-muted);\n",
       "}\n",
       "\n",
       "#sk-container-id-1 label.sk-toggleable__label-arrow:before {\n",
       "  /* Arrow on the left of the label */\n",
       "  content: \"▸\";\n",
       "  float: left;\n",
       "  margin-right: 0.25em;\n",
       "  color: var(--sklearn-color-icon);\n",
       "}\n",
       "\n",
       "#sk-container-id-1 label.sk-toggleable__label-arrow:hover:before {\n",
       "  color: var(--sklearn-color-text);\n",
       "}\n",
       "\n",
       "/* Toggleable content - dropdown */\n",
       "\n",
       "#sk-container-id-1 div.sk-toggleable__content {\n",
       "  max-height: 0;\n",
       "  max-width: 0;\n",
       "  overflow: hidden;\n",
       "  text-align: left;\n",
       "  /* unfitted */\n",
       "  background-color: var(--sklearn-color-unfitted-level-0);\n",
       "}\n",
       "\n",
       "#sk-container-id-1 div.sk-toggleable__content.fitted {\n",
       "  /* fitted */\n",
       "  background-color: var(--sklearn-color-fitted-level-0);\n",
       "}\n",
       "\n",
       "#sk-container-id-1 div.sk-toggleable__content pre {\n",
       "  margin: 0.2em;\n",
       "  border-radius: 0.25em;\n",
       "  color: var(--sklearn-color-text);\n",
       "  /* unfitted */\n",
       "  background-color: var(--sklearn-color-unfitted-level-0);\n",
       "}\n",
       "\n",
       "#sk-container-id-1 div.sk-toggleable__content.fitted pre {\n",
       "  /* unfitted */\n",
       "  background-color: var(--sklearn-color-fitted-level-0);\n",
       "}\n",
       "\n",
       "#sk-container-id-1 input.sk-toggleable__control:checked~div.sk-toggleable__content {\n",
       "  /* Expand drop-down */\n",
       "  max-height: 200px;\n",
       "  max-width: 100%;\n",
       "  overflow: auto;\n",
       "}\n",
       "\n",
       "#sk-container-id-1 input.sk-toggleable__control:checked~label.sk-toggleable__label-arrow:before {\n",
       "  content: \"▾\";\n",
       "}\n",
       "\n",
       "/* Pipeline/ColumnTransformer-specific style */\n",
       "\n",
       "#sk-container-id-1 div.sk-label input.sk-toggleable__control:checked~label.sk-toggleable__label {\n",
       "  color: var(--sklearn-color-text);\n",
       "  background-color: var(--sklearn-color-unfitted-level-2);\n",
       "}\n",
       "\n",
       "#sk-container-id-1 div.sk-label.fitted input.sk-toggleable__control:checked~label.sk-toggleable__label {\n",
       "  background-color: var(--sklearn-color-fitted-level-2);\n",
       "}\n",
       "\n",
       "/* Estimator-specific style */\n",
       "\n",
       "/* Colorize estimator box */\n",
       "#sk-container-id-1 div.sk-estimator input.sk-toggleable__control:checked~label.sk-toggleable__label {\n",
       "  /* unfitted */\n",
       "  background-color: var(--sklearn-color-unfitted-level-2);\n",
       "}\n",
       "\n",
       "#sk-container-id-1 div.sk-estimator.fitted input.sk-toggleable__control:checked~label.sk-toggleable__label {\n",
       "  /* fitted */\n",
       "  background-color: var(--sklearn-color-fitted-level-2);\n",
       "}\n",
       "\n",
       "#sk-container-id-1 div.sk-label label.sk-toggleable__label,\n",
       "#sk-container-id-1 div.sk-label label {\n",
       "  /* The background is the default theme color */\n",
       "  color: var(--sklearn-color-text-on-default-background);\n",
       "}\n",
       "\n",
       "/* On hover, darken the color of the background */\n",
       "#sk-container-id-1 div.sk-label:hover label.sk-toggleable__label {\n",
       "  color: var(--sklearn-color-text);\n",
       "  background-color: var(--sklearn-color-unfitted-level-2);\n",
       "}\n",
       "\n",
       "/* Label box, darken color on hover, fitted */\n",
       "#sk-container-id-1 div.sk-label.fitted:hover label.sk-toggleable__label.fitted {\n",
       "  color: var(--sklearn-color-text);\n",
       "  background-color: var(--sklearn-color-fitted-level-2);\n",
       "}\n",
       "\n",
       "/* Estimator label */\n",
       "\n",
       "#sk-container-id-1 div.sk-label label {\n",
       "  font-family: monospace;\n",
       "  font-weight: bold;\n",
       "  display: inline-block;\n",
       "  line-height: 1.2em;\n",
       "}\n",
       "\n",
       "#sk-container-id-1 div.sk-label-container {\n",
       "  text-align: center;\n",
       "}\n",
       "\n",
       "/* Estimator-specific */\n",
       "#sk-container-id-1 div.sk-estimator {\n",
       "  font-family: monospace;\n",
       "  border: 1px dotted var(--sklearn-color-border-box);\n",
       "  border-radius: 0.25em;\n",
       "  box-sizing: border-box;\n",
       "  margin-bottom: 0.5em;\n",
       "  /* unfitted */\n",
       "  background-color: var(--sklearn-color-unfitted-level-0);\n",
       "}\n",
       "\n",
       "#sk-container-id-1 div.sk-estimator.fitted {\n",
       "  /* fitted */\n",
       "  background-color: var(--sklearn-color-fitted-level-0);\n",
       "}\n",
       "\n",
       "/* on hover */\n",
       "#sk-container-id-1 div.sk-estimator:hover {\n",
       "  /* unfitted */\n",
       "  background-color: var(--sklearn-color-unfitted-level-2);\n",
       "}\n",
       "\n",
       "#sk-container-id-1 div.sk-estimator.fitted:hover {\n",
       "  /* fitted */\n",
       "  background-color: var(--sklearn-color-fitted-level-2);\n",
       "}\n",
       "\n",
       "/* Specification for estimator info (e.g. \"i\" and \"?\") */\n",
       "\n",
       "/* Common style for \"i\" and \"?\" */\n",
       "\n",
       ".sk-estimator-doc-link,\n",
       "a:link.sk-estimator-doc-link,\n",
       "a:visited.sk-estimator-doc-link {\n",
       "  float: right;\n",
       "  font-size: smaller;\n",
       "  line-height: 1em;\n",
       "  font-family: monospace;\n",
       "  background-color: var(--sklearn-color-background);\n",
       "  border-radius: 1em;\n",
       "  height: 1em;\n",
       "  width: 1em;\n",
       "  text-decoration: none !important;\n",
       "  margin-left: 0.5em;\n",
       "  text-align: center;\n",
       "  /* unfitted */\n",
       "  border: var(--sklearn-color-unfitted-level-1) 1pt solid;\n",
       "  color: var(--sklearn-color-unfitted-level-1);\n",
       "}\n",
       "\n",
       ".sk-estimator-doc-link.fitted,\n",
       "a:link.sk-estimator-doc-link.fitted,\n",
       "a:visited.sk-estimator-doc-link.fitted {\n",
       "  /* fitted */\n",
       "  border: var(--sklearn-color-fitted-level-1) 1pt solid;\n",
       "  color: var(--sklearn-color-fitted-level-1);\n",
       "}\n",
       "\n",
       "/* On hover */\n",
       "div.sk-estimator:hover .sk-estimator-doc-link:hover,\n",
       ".sk-estimator-doc-link:hover,\n",
       "div.sk-label-container:hover .sk-estimator-doc-link:hover,\n",
       ".sk-estimator-doc-link:hover {\n",
       "  /* unfitted */\n",
       "  background-color: var(--sklearn-color-unfitted-level-3);\n",
       "  color: var(--sklearn-color-background);\n",
       "  text-decoration: none;\n",
       "}\n",
       "\n",
       "div.sk-estimator.fitted:hover .sk-estimator-doc-link.fitted:hover,\n",
       ".sk-estimator-doc-link.fitted:hover,\n",
       "div.sk-label-container:hover .sk-estimator-doc-link.fitted:hover,\n",
       ".sk-estimator-doc-link.fitted:hover {\n",
       "  /* fitted */\n",
       "  background-color: var(--sklearn-color-fitted-level-3);\n",
       "  color: var(--sklearn-color-background);\n",
       "  text-decoration: none;\n",
       "}\n",
       "\n",
       "/* Span, style for the box shown on hovering the info icon */\n",
       ".sk-estimator-doc-link span {\n",
       "  display: none;\n",
       "  z-index: 9999;\n",
       "  position: relative;\n",
       "  font-weight: normal;\n",
       "  right: .2ex;\n",
       "  padding: .5ex;\n",
       "  margin: .5ex;\n",
       "  width: min-content;\n",
       "  min-width: 20ex;\n",
       "  max-width: 50ex;\n",
       "  color: var(--sklearn-color-text);\n",
       "  box-shadow: 2pt 2pt 4pt #999;\n",
       "  /* unfitted */\n",
       "  background: var(--sklearn-color-unfitted-level-0);\n",
       "  border: .5pt solid var(--sklearn-color-unfitted-level-3);\n",
       "}\n",
       "\n",
       ".sk-estimator-doc-link.fitted span {\n",
       "  /* fitted */\n",
       "  background: var(--sklearn-color-fitted-level-0);\n",
       "  border: var(--sklearn-color-fitted-level-3);\n",
       "}\n",
       "\n",
       ".sk-estimator-doc-link:hover span {\n",
       "  display: block;\n",
       "}\n",
       "\n",
       "/* \"?\"-specific style due to the `<a>` HTML tag */\n",
       "\n",
       "#sk-container-id-1 a.estimator_doc_link {\n",
       "  float: right;\n",
       "  font-size: 1rem;\n",
       "  line-height: 1em;\n",
       "  font-family: monospace;\n",
       "  background-color: var(--sklearn-color-background);\n",
       "  border-radius: 1rem;\n",
       "  height: 1rem;\n",
       "  width: 1rem;\n",
       "  text-decoration: none;\n",
       "  /* unfitted */\n",
       "  color: var(--sklearn-color-unfitted-level-1);\n",
       "  border: var(--sklearn-color-unfitted-level-1) 1pt solid;\n",
       "}\n",
       "\n",
       "#sk-container-id-1 a.estimator_doc_link.fitted {\n",
       "  /* fitted */\n",
       "  border: var(--sklearn-color-fitted-level-1) 1pt solid;\n",
       "  color: var(--sklearn-color-fitted-level-1);\n",
       "}\n",
       "\n",
       "/* On hover */\n",
       "#sk-container-id-1 a.estimator_doc_link:hover {\n",
       "  /* unfitted */\n",
       "  background-color: var(--sklearn-color-unfitted-level-3);\n",
       "  color: var(--sklearn-color-background);\n",
       "  text-decoration: none;\n",
       "}\n",
       "\n",
       "#sk-container-id-1 a.estimator_doc_link.fitted:hover {\n",
       "  /* fitted */\n",
       "  background-color: var(--sklearn-color-fitted-level-3);\n",
       "}\n",
       "</style><div id=\"sk-container-id-1\" class=\"sk-top-container\"><div class=\"sk-text-repr-fallback\"><pre>LinearRegression()</pre><b>In a Jupyter environment, please rerun this cell to show the HTML representation or trust the notebook. <br />On GitHub, the HTML representation is unable to render, please try loading this page with nbviewer.org.</b></div><div class=\"sk-container\" hidden><div class=\"sk-item\"><div class=\"sk-estimator fitted sk-toggleable\"><input class=\"sk-toggleable__control sk-hidden--visually\" id=\"sk-estimator-id-1\" type=\"checkbox\" checked><label for=\"sk-estimator-id-1\" class=\"sk-toggleable__label fitted sk-toggleable__label-arrow\"><div><div>LinearRegression</div></div><div><a class=\"sk-estimator-doc-link fitted\" rel=\"noreferrer\" target=\"_blank\" href=\"https://scikit-learn.org/1.6/modules/generated/sklearn.linear_model.LinearRegression.html\">?<span>Documentation for LinearRegression</span></a><span class=\"sk-estimator-doc-link fitted\">i<span>Fitted</span></span></div></label><div class=\"sk-toggleable__content fitted\"><pre>LinearRegression()</pre></div> </div></div></div></div>"
      ],
      "text/plain": [
       "LinearRegression()"
      ]
     },
     "execution_count": 13,
     "metadata": {},
     "output_type": "execute_result"
    }
   ],
   "source": [
    "#fit model and look at coefficients\n",
    "lr.fit(X, y)"
   ]
  },
  {
   "cell_type": "code",
   "execution_count": 15,
   "metadata": {
    "colab": {
     "base_uri": "https://localhost:8080/"
    },
    "id": "6vPUs7DRpk-k",
    "outputId": "33ab4e22-140c-485a-e37e-175bcf29b008"
   },
   "outputs": [
    {
     "name": "stdout",
     "output_type": "stream",
     "text": [
      "[-23.34451763   0.33002884]\n",
      "470.86947158376046\n"
     ]
    }
   ],
   "source": [
    "# intercept\n",
    "print(lr.coef_)\n",
    "print(lr.intercept_)"
   ]
  },
  {
   "cell_type": "code",
   "execution_count": 16,
   "metadata": {
    "colab": {
     "base_uri": "https://localhost:8080/",
     "height": 282
    },
    "id": "0RpB59nvpk-k",
    "outputId": "3bfe81b3-8b65-4df1-e449-c70c5ac8840c"
   },
   "outputs": [
    {
     "data": {
      "text/plain": [
       "<matplotlib.collections.PathCollection at 0x31e341c10>"
      ]
     },
     "execution_count": 16,
     "metadata": {},
     "output_type": "execute_result"
    },
    {
     "data": {
      "image/png": "[encoded data removed]",
      "text/plain": [
       "<Figure size 640x480 with 1 Axes>"
      ]
     },
     "metadata": {},
     "output_type": "display_data"
    }
   ],
   "source": [
    "plt.scatter(X['mpg'], y)\n",
    "plt.scatter(X['mpg'], lr.predict(X))"
   ]
  },
  {
   "cell_type": "code",
   "execution_count": 18,
   "metadata": {
    "colab": {
     "base_uri": "https://localhost:8080/"
    },
    "id": "D2KJIfQ8pk-k",
    "outputId": "5a9e75f5-e2aa-4f66-be81-675e9dc01062"
   },
   "outputs": [
    {
     "data": {
      "text/plain": [
       "1623.110284047419"
      ]
     },
     "execution_count": 18,
     "metadata": {},
     "output_type": "execute_result"
    }
   ],
   "source": [
    "# mean squared error?\n",
    "mean_squared_error(y, lr.predict(X))"
   ]
  },
  {
   "cell_type": "markdown",
   "metadata": {
    "id": "jLtEZOEJpk-l"
   },
   "source": [
    "**QUESTION**: Which is better -- the first or second degree model?"
   ]
  },
  {
   "cell_type": "markdown",
   "metadata": {
    "id": "9LjQTqB_pk-l"
   },
   "source": [
    "### Problem\n",
    "\n",
    "1. Add a cubic term to the data.  \n",
    "2. Fit a new model to the cubic data.\n",
    "3. Determine the `mean_squared_error` of the linear, quadratic, and cubic models.  How do they compare?\n",
    "4. Would a quartic polynomial (4th degree) be better or worse in terms of `mean_squared_error`?\n"
   ]
  },
  {
   "cell_type": "code",
   "execution_count": null,
   "metadata": {
    "colab": {
     "base_uri": "https://localhost:8080/"
    },
    "id": "oy1Qjgv-pk-l",
    "outputId": "447df859-75dc-4654-bf24-3ab61d6bd42c"
   },
   "outputs": [],
   "source": []
  },
  {
   "cell_type": "code",
   "execution_count": null,
   "metadata": {
    "colab": {
     "base_uri": "https://localhost:8080/"
    },
    "id": "JTO693Ivpk-l",
    "outputId": "d2a24fdb-648c-43fa-a051-653cf28962f9"
   },
   "outputs": [],
   "source": []
  },
  {
   "cell_type": "code",
   "execution_count": null,
   "metadata": {
    "id": "SAT8l18dpk-l"
   },
   "outputs": [],
   "source": []
  },
  {
   "cell_type": "code",
   "execution_count": null,
   "metadata": {
    "id": "eNpNT0p9pk-l"
   },
   "outputs": [],
   "source": []
  },
  {
   "cell_type": "code",
   "execution_count": null,
   "metadata": {
    "id": "lvZZ6McXpk-l"
   },
   "outputs": [],
   "source": []
  },
  {
   "cell_type": "code",
   "execution_count": null,
   "metadata": {
    "id": "9KeoNzqipk-l"
   },
   "outputs": [],
   "source": []
  },
  {
   "cell_type": "markdown",
   "metadata": {
    "id": "e2tQh8Zdpk-l"
   },
   "source": [
    "### Experimenting with complexity\n",
    "\n",
    "Below, a synthetic dataset is created and different complexity regression models can be controlled using the slider.  Which degree complexity seems best?  Consider the new data after you determine the ideal model."
   ]
  },
  {
   "cell_type": "code",
   "execution_count": 23,
   "metadata": {
    "id": "7N2rrzr_pk-m"
   },
   "outputs": [],
   "source": [
    "from ipywidgets import interact\n",
    "import ipywidgets as widgets"
   ]
  },
  {
   "cell_type": "code",
   "execution_count": 24,
   "metadata": {
    "id": "kipqbpxjpk-m"
   },
   "outputs": [],
   "source": [
    "x = np.linspace(0, 12, 30)\n",
    "y = 3*x + 15 + 4*np.sin(x) + np.random.normal(scale = 3.0, size = len(x))"
   ]
  },
  {
   "cell_type": "code",
   "execution_count": 25,
   "metadata": {
    "id": "E7p2f8Fapk-m"
   },
   "outputs": [],
   "source": [
    "# Don't Peek!\n",
    "# x = np.random.choice(x, 50, replace = False)\n",
    "def model_maker(n, newdata = False):\n",
    "    coefs = np.polyfit(x, y, n)\n",
    "    preds = np.polyval(coefs, x)\n",
    "    x_,y_,p_ = zip(*sorted(zip(x, y, preds)))\n",
    "    plt.scatter(x_, y_, label = 'Known Data')\n",
    "    plt.xlim(0, 6)\n",
    "    if newdata:\n",
    "        np.random.seed(42)\n",
    "        x2 = np.random.choice(np.linspace(0, 12, 1000), 35)\n",
    "        y2 = 3*x2 + 15 + 4*np.sin(x2) + np.random.normal(scale = 3.0, size = len(x2))\n",
    "        plt.scatter(x2, y2, label = 'New Data')\n",
    "    plt.plot(x_, p_, color = 'red')\n",
    "    plt.title(f'Degree {n}')\n",
    "    plt.legend();"
   ]
  },
  {
   "cell_type": "code",
   "execution_count": 26,
   "metadata": {
    "colab": {
     "base_uri": "https://localhost:8080/",
     "height": 345,
     "referenced_widgets": [
      "4839ebc432024a0cb22b7c4929d5089c",
      "3a00c070d08546038eb823de348523b1",
      "153d6452c9714626ab7b0c9127333fee",
      "d0399b8ba75743b0af326a77d4d4b743",
      "fdb07876699848aeb91eaa40a103e0e1",
      "2e920f8b694646ceb5acdbd517aebee8",
      "0d6cd7d606194831a517e4a8ab79e385",
      "371f5f8598b44fccbf9adea5277ce7ae",
      "54ca264872924442bf8f7afc2c13a7e5",
      "f20c322c3ba84848af164532077e760d"
     ]
    },
    "id": "VxSTmDCgpk-m",
    "outputId": "6cb46798-4953-4a9e-ed91-5b586e38371e"
   },
   "outputs": [
    {
     "data": {
      "application/vnd.jupyter.widget-view+json": {
       "model_id": "22f1bea33f414fba973fd260f267afab",
       "version_major": 2,
       "version_minor": 0
      },
      "text/plain": [
       "interactive(children=(IntSlider(value=1, description='n', max=30, min=1), Checkbox(value=False, description='n…"
      ]
     },
     "metadata": {},
     "output_type": "display_data"
    }
   ],
   "source": [
    "interact(model_maker, n = widgets.IntSlider(start = 1, min = 1, max = len(y), step = 1));"
   ]
  },
  {
   "cell_type": "code",
   "execution_count": null,
   "metadata": {
    "id": "IdjLLMMLpk-m"
   },
   "outputs": [],
   "source": [
    "#CHOOSE OPTIMAL COMPLEXITY"
   ]
  },
  {
   "cell_type": "code",
   "execution_count": null,
   "metadata": {
    "id": "E-LwMftNpk-m"
   },
   "outputs": [],
   "source": []
  },
  {
   "cell_type": "code",
   "execution_count": null,
   "metadata": {
    "id": "a6sqImHFpk-n"
   },
   "outputs": [],
   "source": []
  },
  {
   "cell_type": "markdown",
   "metadata": {
    "id": "E-R60bCtpk-n"
   },
   "source": [
    "`PolynomialFeatures`\n",
    "\n",
    "Scikitlearn has a transformer that will do the work of adding polynomial terms on to our dataset.  For more information see the documentation [here](https://scikit-learn.org/stable/modules/preprocessing.html#polynomial-features)."
   ]
  },
  {
   "cell_type": "code",
   "execution_count": null,
   "metadata": {
    "id": "vHhnI138pk-n"
   },
   "outputs": [],
   "source": [
    "from sklearn.preprocessing import PolynomialFeatures"
   ]
  },
  {
   "cell_type": "code",
   "execution_count": null,
   "metadata": {
    "colab": {
     "base_uri": "https://localhost:8080/"
    },
    "id": "XfvZMJGwpk-n",
    "outputId": "ac7a0a49-6441-4adc-b3fc-84e9de323036"
   },
   "outputs": [],
   "source": [
    "#create a little dataset (3, 2)\n",
    "toy_x = np.random.normal(size = (3, 2))\n",
    "toy_x"
   ]
  },
  {
   "cell_type": "code",
   "execution_count": null,
   "metadata": {
    "colab": {
     "base_uri": "https://localhost:8080/"
    },
    "id": "0IQr2VBCpk-n",
    "outputId": "95fd5f35-ebe3-46b7-e13a-27e0a26974e4"
   },
   "outputs": [],
   "source": [
    "#instantiate and transform\n",
    "poly_feats = PolynomialFeatures(include_bias = False)\n",
    "poly_feats.fit_transform(toy_x)"
   ]
  },
  {
   "cell_type": "markdown",
   "metadata": {
    "id": "PyFFTNHnpk-n"
   },
   "source": [
    "`interaction_only = True`"
   ]
  },
  {
   "cell_type": "code",
   "execution_count": null,
   "metadata": {
    "colab": {
     "base_uri": "https://localhost:8080/"
    },
    "id": "HKcu5WIBpk-n",
    "outputId": "344543c7-81ac-44b4-c409-abea4f9d6aa9"
   },
   "outputs": [],
   "source": [
    "#look at the feature names\n",
    "poly_feats.get_feature_names_out()"
   ]
  },
  {
   "cell_type": "code",
   "execution_count": null,
   "metadata": {
    "colab": {
     "base_uri": "https://localhost:8080/",
     "height": 143
    },
    "id": "DEDJAdQvpk-n",
    "outputId": "e7654063-4bfb-470a-c1ea-e5dc143a14e0"
   },
   "outputs": [],
   "source": [
    "#create a dataframe from results\n",
    "pd.DataFrame(poly_feats.fit_transform(toy_x), columns = poly_feats.get_feature_names_out())"
   ]
  },
  {
   "cell_type": "markdown",
   "metadata": {
    "id": "HSt5TCgXpk-o"
   },
   "source": [
    "Now, let's use `PolynomialFeatures` to solve the earlier problem predicting `hp` using `mpg`. "
   ]
  },
  {
   "cell_type": "code",
   "execution_count": null,
   "metadata": {
    "id": "YtBLNENspk-o"
   },
   "outputs": [],
   "source": [
    "#instantiate polynomial features\n"
   ]
  },
  {
   "cell_type": "code",
   "execution_count": null,
   "metadata": {
    "colab": {
     "base_uri": "https://localhost:8080/"
    },
    "id": "9KZEQDVbpk-o",
    "outputId": "30b9b258-395b-4685-b8e3-4574eb15885f"
   },
   "outputs": [],
   "source": [
    "#transform X\n",
    "XT = ''"
   ]
  },
  {
   "cell_type": "code",
   "execution_count": null,
   "metadata": {
    "colab": {
     "base_uri": "https://localhost:8080/"
    },
    "id": "VdQycBO40PCZ",
    "outputId": "05e2ab9b-a7af-4c56-cbe4-d5762a11fa89"
   },
   "outputs": [],
   "source": [
    "#examine feature names\n"
   ]
  },
  {
   "cell_type": "code",
   "execution_count": null,
   "metadata": {
    "colab": {
     "base_uri": "https://localhost:8080/"
    },
    "id": "Odhyv17Fpk-o",
    "outputId": "3b4c8e39-c01a-45c6-8d8a-bcd358106e57"
   },
   "outputs": [],
   "source": [
    "#instantiate model\n"
   ]
  },
  {
   "cell_type": "code",
   "execution_count": null,
   "metadata": {
    "colab": {
     "base_uri": "https://localhost:8080/"
    },
    "id": "I-5gzSu9pk-o",
    "outputId": "7cd34db3-8073-43db-d585-7eb7b2a879e2"
   },
   "outputs": [],
   "source": [
    "#fit, predict and score\n"
   ]
  },
  {
   "cell_type": "markdown",
   "metadata": {
    "id": "ZVHLZvWypk-o"
   },
   "source": [
    "#### `train_test_split`\n",
    "\n",
    "\n",
    "\n",
    "To this point, we have evaluated our models using the data they were built with.  If our goal is to use these models for future predictions, it would be better to understand the performance on data the model has *not* seen in the past.  To mimic this notion of unseen data, we create a small holdout set of data to use in evaluation.  \n",
    "\n",
    "- **Train Data**: Data to build our model with.\n",
    "- **Test Data**: Data to evaluate the model with (usually a smaller dataset than train)"
   ]
  },
  {
   "cell_type": "markdown",
   "metadata": {
    "id": "geCbV5r3pk-o"
   },
   "source": [
    "Scikitlearn has a `train_test_split` function that will create these datasets for us.  Below we load it from the `model_selection` module and explore its functionality. [User Guide](https://scikit-learn.org/stable/modules/cross_validation.html#cross-validation)"
   ]
  },
  {
   "cell_type": "code",
   "execution_count": 27,
   "metadata": {
    "id": "K5_5XBNlpk-o"
   },
   "outputs": [],
   "source": [
    "# import function\n",
    "from sklearn.model_selection import train_test_split"
   ]
  },
  {
   "cell_type": "code",
   "execution_count": 28,
   "metadata": {
    "id": "5Rxd3V26pk-o"
   },
   "outputs": [
    {
     "ename": "NameError",
     "evalue": "name 'XT' is not defined",
     "output_type": "error",
     "traceback": [
      "\u001b[0;31m---------------------------------------------------------------------------\u001b[0m",
      "\u001b[0;31mNameError\u001b[0m                                 Traceback (most recent call last)",
      "Cell \u001b[0;32mIn[28], line 3\u001b[0m\n\u001b[1;32m      1\u001b[0m \u001b[38;5;66;03m# create a train and test split\u001b[39;00m\n\u001b[1;32m      2\u001b[0m y \u001b[38;5;241m=\u001b[39m cars[\u001b[38;5;124m'\u001b[39m\u001b[38;5;124mhp\u001b[39m\u001b[38;5;124m'\u001b[39m]\n\u001b[0;32m----> 3\u001b[0m X_train, X_test, y_train, y_test \u001b[38;5;241m=\u001b[39m train_test_split(\u001b[43mXT\u001b[49m, y)\n",
      "\u001b[0;31mNameError\u001b[0m: name 'XT' is not defined"
     ]
    }
   ],
   "source": [
    "# create a train and test split\n",
    "y = cars['hp']\n",
    "X_train, X_test, y_train, y_test = train_test_split(XT, y)"
   ]
  },
  {
   "cell_type": "code",
   "execution_count": null,
   "metadata": {
    "colab": {
     "base_uri": "https://localhost:8080/"
    },
    "id": "_1cFS5tWpk-p",
    "outputId": "3f71d16f-f272-4a23-ed93-c5d73092ae6e"
   },
   "outputs": [],
   "source": [
    "# explore train data\n",
    "X_train.shape"
   ]
  },
  {
   "cell_type": "code",
   "execution_count": null,
   "metadata": {
    "colab": {
     "base_uri": "https://localhost:8080/"
    },
    "id": "XmfqSJ3kpk-p",
    "outputId": "13884cd8-9282-4659-e5c0-7e5b9ee027f5"
   },
   "outputs": [],
   "source": [
    "# explore test data\n",
    "X_test.shape"
   ]
  },
  {
   "cell_type": "code",
   "execution_count": null,
   "metadata": {
    "colab": {
     "base_uri": "https://localhost:8080/"
    },
    "id": "AVcCPXD8pk-p",
    "outputId": "2336b160-012b-4de9-e07f-8f2c3dac33bb"
   },
   "outputs": [],
   "source": [
    "# build model with train\n",
    "lr = LinearRegression()\n",
    "lr.fit(X_train, y_train)"
   ]
  },
  {
   "cell_type": "code",
   "execution_count": null,
   "metadata": {
    "colab": {
     "base_uri": "https://localhost:8080/"
    },
    "id": "zZtoVzA_pk-p",
    "outputId": "d960f041-cfd6-4322-8b61-60b1ad34170e"
   },
   "outputs": [],
   "source": [
    "# evaluate train mse\n",
    "train_preds = lr.predict(X_train) \n",
    "print(mean_squared_error(y_train, train_preds))"
   ]
  },
  {
   "cell_type": "code",
   "execution_count": null,
   "metadata": {
    "colab": {
     "base_uri": "https://localhost:8080/"
    },
    "id": "8b98NndVpk-p",
    "outputId": "6840be72-1e97-4e0c-f241-2034e7676269"
   },
   "outputs": [],
   "source": [
    "# evaluate test mse\n",
    "test_preds = lr.predict(X_test)\n",
    "print(mean_squared_error(y_test, test_preds))"
   ]
  },
  {
   "cell_type": "markdown",
   "metadata": {
    "id": "dkRXniutpk-p"
   },
   "source": [
    "#### Using the test data to determine model complexity\n",
    "\n",
    "Now, you can use the test set to measure the performance of models with varied complexity -- choosing the \"best\" based on the scores on the test data."
   ]
  },
  {
   "cell_type": "code",
   "execution_count": null,
   "metadata": {
    "colab": {
     "base_uri": "https://localhost:8080/"
    },
    "id": "oDw2HhpOpk-p",
    "outputId": "e76c0e02-4d64-4eb5-e003-43d0ea06ccca"
   },
   "outputs": [],
   "source": [
    "# create polynomial features for train and test\n",
    "for i in range(1, 10):\n",
    "    poly_feats = PolynomialFeatures(degree = i, include_bias = False)\n",
    "    X_train_poly = poly_feats.fit_transform(X_train)\n",
    "    X_test_poly = poly_feats.transform(X_test)\n",
    "    lr = LinearRegression()\n",
    "    lr.fit(X_train_poly, y_train)\n",
    "    train_preds = lr.predict(X_train_poly)\n",
    "    test_preds = lr.predict(X_test_poly)\n",
    "    print(f'Train MSE: {mean_squared_error(y_train, train_preds)}')\n",
    "    print(f'Test MSE: {mean_squared_error(y_test, test_preds)}')\n",
    "    print('--------------------------------')\n"
   ]
  },
  {
   "cell_type": "code",
   "execution_count": null,
   "metadata": {
    "id": "JVzZdP8Zpk-p"
   },
   "outputs": [],
   "source": [
    "# fit the model\n"
   ]
  },
  {
   "cell_type": "code",
   "execution_count": null,
   "metadata": {
    "id": "Dwsw18kzpk-p"
   },
   "outputs": [],
   "source": [
    "# train MSE\n"
   ]
  },
  {
   "cell_type": "code",
   "execution_count": null,
   "metadata": {
    "id": "lclM9YVopk-q"
   },
   "outputs": [],
   "source": [
    "# test MSE\n"
   ]
  },
  {
   "cell_type": "markdown",
   "metadata": {},
   "source": [
    "### Part II"
   ]
  },
  {
   "cell_type": "markdown",
   "metadata": {
    "id": "m1aRYa3Dpk-q"
   },
   "source": [
    "#### Another Example\n",
    "\n",
    "Returning to the credit dataset from earlier, we walk through a basic model building exercise.  Along the way we will explore the `OneHotEncoder` and `make_column_transformer` to help with preparing the data for modeling.  Our workflow is as follows:\n",
    "\n",
    "- Convert categorical columns to dummy encoded\n",
    "- Add polynomial features\n",
    "- Build `LinearRegression` model on train data\n",
    "- Evaluate on test data"
   ]
  },
  {
   "cell_type": "code",
   "execution_count": null,
   "metadata": {},
   "outputs": [],
   "source": [
    "from sklearn.preprocessing import OneHotEncoder\n",
    "from sklearn.compose import make_column_transformer"
   ]
  },
  {
   "cell_type": "code",
   "execution_count": 32,
   "metadata": {
    "id": "KJ-KGKW_pk-r"
   },
   "outputs": [],
   "source": [
    "# load data\n",
    "url = 'https://raw.githubusercontent.com/jfkoehler/nyu_bootcamp_fa23/main/data/Credit.csv'"
   ]
  },
  {
   "cell_type": "code",
   "execution_count": null,
   "metadata": {
    "id": "DJLp2sb3pk-r"
   },
   "outputs": [],
   "source": [
    "# train/test split\n"
   ]
  },
  {
   "cell_type": "code",
   "execution_count": null,
   "metadata": {
    "id": "4PmP2sfCpk-s"
   },
   "outputs": [],
   "source": [
    "# import OneHotEncoder\n"
   ]
  },
  {
   "cell_type": "code",
   "execution_count": null,
   "metadata": {
    "id": "4DwOX1ebpk-s"
   },
   "outputs": [],
   "source": [
    "# instantiate\n"
   ]
  },
  {
   "cell_type": "code",
   "execution_count": null,
   "metadata": {
    "id": "fwFNwEGUpk-s"
   },
   "outputs": [],
   "source": [
    "# fit and transform train data\n"
   ]
  },
  {
   "cell_type": "code",
   "execution_count": null,
   "metadata": {
    "id": "dPzk3mO9pk-s"
   },
   "outputs": [],
   "source": [
    "# instead we specify columns with make_column_selector\n"
   ]
  },
  {
   "cell_type": "code",
   "execution_count": null,
   "metadata": {
    "id": "Kh_NPy99pk-s"
   },
   "outputs": [],
   "source": [
    "# transform train and test\n"
   ]
  },
  {
   "cell_type": "code",
   "execution_count": null,
   "metadata": {
    "id": "xesPeYjFpk-s"
   },
   "outputs": [],
   "source": [
    "# add polynomial features\n"
   ]
  },
  {
   "cell_type": "code",
   "execution_count": null,
   "metadata": {
    "id": "JTDaJUbupk-s"
   },
   "outputs": [],
   "source": [
    "# fit regression model\n"
   ]
  },
  {
   "cell_type": "code",
   "execution_count": null,
   "metadata": {
    "id": "fdrIq-tKpk-s"
   },
   "outputs": [],
   "source": [
    "# score on train\n"
   ]
  },
  {
   "cell_type": "code",
   "execution_count": null,
   "metadata": {
    "id": "TO55mJczpk-t"
   },
   "outputs": [],
   "source": [
    "# score on test\n"
   ]
  },
  {
   "cell_type": "markdown",
   "metadata": {
    "id": "-Bb9NcX6pk-t"
   },
   "source": [
    "### A Larger Experiment"
   ]
  },
  {
   "cell_type": "code",
   "execution_count": null,
   "metadata": {
    "id": "-Y9gBoKspk-t"
   },
   "outputs": [],
   "source": [
    "from sklearn.datasets import make_regression"
   ]
  },
  {
   "cell_type": "code",
   "execution_count": null,
   "metadata": {
    "id": "FFUVnv2Spk-t"
   },
   "outputs": [],
   "source": [
    "#sample data\n",
    "X, y = make_regression(n_features = 4, n_samples = 1000, n_informative = 2)"
   ]
  },
  {
   "cell_type": "code",
   "execution_count": null,
   "metadata": {
    "id": "fAaSsXY0pk-t"
   },
   "outputs": [],
   "source": [
    "data = pd.DataFrame(X, columns = ['x1', 'x2', 'x3', 'x4'])\n",
    "data['y'] = y"
   ]
  },
  {
   "cell_type": "code",
   "execution_count": null,
   "metadata": {
    "id": "rV3Gt7cupk-t"
   },
   "outputs": [],
   "source": [
    "data.head()"
   ]
  },
  {
   "cell_type": "markdown",
   "metadata": {
    "id": "k_wMM0qrpk-t"
   },
   "source": [
    "Now, we want to explore the effect of different complexities on the error of the model.  Your goal is to explore Linear Regression model complexities of degree 1 through 15 on a train and test set of data above.  "
   ]
  },
  {
   "cell_type": "code",
   "execution_count": null,
   "metadata": {
    "id": "SK-EV571pk-t"
   },
   "outputs": [],
   "source": [
    "#create train and test data\n"
   ]
  },
  {
   "cell_type": "code",
   "execution_count": null,
   "metadata": {
    "id": "yrMz4FWJpk-t"
   },
   "outputs": [],
   "source": [
    "#empty lists to hold train and test rmse\n"
   ]
  },
  {
   "cell_type": "code",
   "execution_count": null,
   "metadata": {
    "id": "xkU7aAv5pk-t"
   },
   "outputs": [],
   "source": [
    "#loop over 15 complexities\n",
    "\n",
    "##instantiate polynomial transformer\n",
    "\n",
    "##transform\n",
    "\n",
    "##instantiate regressor\n",
    "\n",
    "##fit\n",
    "\n",
    "##append train and test rmse\n",
    "\n",
    "#plot model complexity vs. rmse for both train and test\n"
   ]
  },
  {
   "cell_type": "code",
   "execution_count": null,
   "metadata": {
    "id": "bkwBlGTSpk-u"
   },
   "outputs": [],
   "source": []
  },
  {
   "cell_type": "code",
   "execution_count": null,
   "metadata": {
    "id": "6et80FdMpk-u"
   },
   "outputs": [],
   "source": []
  },
  {
   "cell_type": "code",
   "execution_count": null,
   "metadata": {
    "id": "x5gKQOzipk-u"
   },
   "outputs": [],
   "source": []
  },
  {
   "cell_type": "code",
   "execution_count": null,
   "metadata": {
    "id": "9MnCB4_upk-u"
   },
   "outputs": [],
   "source": []
  },
  {
   "cell_type": "code",
   "execution_count": null,
   "metadata": {
    "id": "5MZle9I3pk-u"
   },
   "outputs": [],
   "source": []
  },
  {
   "cell_type": "code",
   "execution_count": null,
   "metadata": {
    "id": "d5O-OH5zpk-u"
   },
   "outputs": [],
   "source": []
  },
  {
   "cell_type": "code",
   "execution_count": null,
   "metadata": {
    "id": "hAtEq3X1pk-u"
   },
   "outputs": [],
   "source": []
  },
  {
   "cell_type": "code",
   "execution_count": null,
   "metadata": {
    "id": "-5BEX0E4pk-u"
   },
   "outputs": [],
   "source": []
  },
  {
   "cell_type": "code",
   "execution_count": null,
   "metadata": {
    "id": "TxuiaoCNpk-u"
   },
   "outputs": [],
   "source": []
  },
  {
   "cell_type": "code",
   "execution_count": null,
   "metadata": {
    "id": "2EmCFb6Zpk-u"
   },
   "outputs": [],
   "source": []
  },
  {
   "cell_type": "code",
   "execution_count": null,
   "metadata": {
    "id": "dB2OvL6gpk-u"
   },
   "outputs": [],
   "source": []
  },
  {
   "cell_type": "code",
   "execution_count": null,
   "metadata": {
    "id": "PjFlsh_ipk-u"
   },
   "outputs": [],
   "source": []
  }
 ],
 "metadata": {
  "colab": {
   "provenance": []
  },
  "kernelspec": {
   "display_name": "Python 3 (ipykernel)",
   "language": "python",
   "name": "python3"
  },
  "language_info": {
   "codemirror_mode": {
    "name": "ipython",
    "version": 3
   },
   "file_extension": ".py",
   "mimetype": "text/x-python",
   "name": "python",
   "nbconvert_exporter": "python",
   "pygments_lexer": "ipython3",
   "version": "3.11.1"
  },
  "widgets": {
   "application/vnd.jupyter.widget-state+json": {
    "0d6cd7d606194831a517e4a8ab79e385": {
     "model_module": "@jupyter-widgets/controls",
     "model_module_version": "1.5.0",
     "model_name": "SliderStyleModel",
     "state": {
      "_model_module": "@jupyter-widgets/controls",
      "_model_module_version": "1.5.0",
      "_model_name": "SliderStyleModel",
      "_view_count": null,
      "_view_module": "@jupyter-widgets/base",
      "_view_module_version": "1.2.0",
      "_view_name": "StyleView",
      "description_width": "",
      "handle_color": null
     }
    },
    "153d6452c9714626ab7b0c9127333fee": {
     "model_module": "@jupyter-widgets/controls",
     "model_module_version": "1.5.0",
     "model_name": "CheckboxModel",
     "state": {
      "_dom_classes": [],
      "_model_module": "@jupyter-widgets/controls",
      "_model_module_version": "1.5.0",
      "_model_name": "CheckboxModel",
      "_view_count": null,
      "_view_module": "@jupyter-widgets/controls",
      "_view_module_version": "1.5.0",
      "_view_name": "CheckboxView",
      "description": "newdata",
      "description_tooltip": null,
      "disabled": false,
      "indent": true,
      "layout": "IPY_MODEL_371f5f8598b44fccbf9adea5277ce7ae",
      "style": "IPY_MODEL_54ca264872924442bf8f7afc2c13a7e5",
      "value": true
     }
    },
    "2e920f8b694646ceb5acdbd517aebee8": {
     "model_module": "@jupyter-widgets/base",
     "model_module_version": "1.2.0",
     "model_name": "LayoutModel",
     "state": {
      "_model_module": "@jupyter-widgets/base",
      "_model_module_version": "1.2.0",
      "_model_name": "LayoutModel",
      "_view_count": null,
      "_view_module": "@jupyter-widgets/base",
      "_view_module_version": "1.2.0",
      "_view_name": "LayoutView",
      "align_content": null,
      "align_items": null,
      "align_self": null,
      "border": null,
      "bottom": null,
      "display": null,
      "flex": null,
      "flex_flow": null,
      "grid_area": null,
      "grid_auto_columns": null,
      "grid_auto_flow": null,
      "grid_auto_rows": null,
      "grid_column": null,
      "grid_gap": null,
      "grid_row": null,
      "grid_template_areas": null,
      "grid_template_columns": null,
      "grid_template_rows": null,
      "height": null,
      "justify_content": null,
      "justify_items": null,
      "left": null,
      "margin": null,
      "max_height": null,
      "max_width": null,
      "min_height": null,
      "min_width": null,
      "object_fit": null,
      "object_position": null,
      "order": null,
      "overflow": null,
      "overflow_x": null,
      "overflow_y": null,
      "padding": null,
      "right": null,
      "top": null,
      "visibility": null,
      "width": null
     }
    },
    "371f5f8598b44fccbf9adea5277ce7ae": {
     "model_module": "@jupyter-widgets/base",
     "model_module_version": "1.2.0",
     "model_name": "LayoutModel",
     "state": {
      "_model_module": "@jupyter-widgets/base",
      "_model_module_version": "1.2.0",
      "_model_name": "LayoutModel",
      "_view_count": null,
      "_view_module": "@jupyter-widgets/base",
      "_view_module_version": "1.2.0",
      "_view_name": "LayoutView",
      "align_content": null,
      "align_items": null,
      "align_self": null,
      "border": null,
      "bottom": null,
      "display": null,
      "flex": null,
      "flex_flow": null,
      "grid_area": null,
      "grid_auto_columns": null,
      "grid_auto_flow": null,
      "grid_auto_rows": null,
      "grid_column": null,
      "grid_gap": null,
      "grid_row": null,
      "grid_template_areas": null,
      "grid_template_columns": null,
      "grid_template_rows": null,
      "height": null,
      "justify_content": null,
      "justify_items": null,
      "left": null,
      "margin": null,
      "max_height": null,
      "max_width": null,
      "min_height": null,
      "min_width": null,
      "object_fit": null,
      "object_position": null,
      "order": null,
      "overflow": null,
      "overflow_x": null,
      "overflow_y": null,
      "padding": null,
      "right": null,
      "top": null,
      "visibility": null,
      "width": null
     }
    },
    "3a00c070d08546038eb823de348523b1": {
     "model_module": "@jupyter-widgets/controls",
     "model_module_version": "1.5.0",
     "model_name": "IntSliderModel",
     "state": {
      "_dom_classes": [],
      "_model_module": "@jupyter-widgets/controls",
      "_model_module_version": "1.5.0",
      "_model_name": "IntSliderModel",
      "_view_count": null,
      "_view_module": "@jupyter-widgets/controls",
      "_view_module_version": "1.5.0",
      "_view_name": "IntSliderView",
      "continuous_update": true,
      "description": "n",
      "description_tooltip": null,
      "disabled": false,
      "layout": "IPY_MODEL_2e920f8b694646ceb5acdbd517aebee8",
      "max": 20,
      "min": 1,
      "orientation": "horizontal",
      "readout": true,
      "readout_format": "d",
      "step": 1,
      "style": "IPY_MODEL_0d6cd7d606194831a517e4a8ab79e385",
      "value": 17
     }
    },
    "4839ebc432024a0cb22b7c4929d5089c": {
     "model_module": "@jupyter-widgets/controls",
     "model_module_version": "1.5.0",
     "model_name": "VBoxModel",
     "state": {
      "_dom_classes": [
       "widget-interact"
      ],
      "_model_module": "@jupyter-widgets/controls",
      "_model_module_version": "1.5.0",
      "_model_name": "VBoxModel",
      "_view_count": null,
      "_view_module": "@jupyter-widgets/controls",
      "_view_module_version": "1.5.0",
      "_view_name": "VBoxView",
      "box_style": "",
      "children": [
       "IPY_MODEL_3a00c070d08546038eb823de348523b1",
       "IPY_MODEL_153d6452c9714626ab7b0c9127333fee",
       "IPY_MODEL_d0399b8ba75743b0af326a77d4d4b743"
      ],
      "layout": "IPY_MODEL_fdb07876699848aeb91eaa40a103e0e1"
     }
    },
    "54ca264872924442bf8f7afc2c13a7e5": {
     "model_module": "@jupyter-widgets/controls",
     "model_module_version": "1.5.0",
     "model_name": "DescriptionStyleModel",
     "state": {
      "_model_module": "@jupyter-widgets/controls",
      "_model_module_version": "1.5.0",
      "_model_name": "DescriptionStyleModel",
      "_view_count": null,
      "_view_module": "@jupyter-widgets/base",
      "_view_module_version": "1.2.0",
      "_view_name": "StyleView",
      "description_width": ""
     }
    },
    "d0399b8ba75743b0af326a77d4d4b743": {
     "model_module": "@jupyter-widgets/output",
     "model_module_version": "1.0.0",
     "model_name": "OutputModel",
     "state": {
      "_dom_classes": [],
      "_model_module": "@jupyter-widgets/output",
      "_model_module_version": "1.0.0",
      "_model_name": "OutputModel",
      "_view_count": null,
      "_view_module": "@jupyter-widgets/output",
      "_view_module_version": "1.0.0",
      "_view_name": "OutputView",
      "layout": "IPY_MODEL_f20c322c3ba84848af164532077e760d",
      "msg_id": "",
      "outputs": [
       {
        "data": {
         "image/png": "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\n",
         "text/plain": "<Figure size 432x288 with 1 Axes>"
        },
        "metadata": {
         "needs_background": "light"
        },
        "output_type": "display_data"
       }
      ]
     }
    },
    "f20c322c3ba84848af164532077e760d": {
     "model_module": "@jupyter-widgets/base",
     "model_module_version": "1.2.0",
     "model_name": "LayoutModel",
     "state": {
      "_model_module": "@jupyter-widgets/base",
      "_model_module_version": "1.2.0",
      "_model_name": "LayoutModel",
      "_view_count": null,
      "_view_module": "@jupyter-widgets/base",
      "_view_module_version": "1.2.0",
      "_view_name": "LayoutView",
      "align_content": null,
      "align_items": null,
      "align_self": null,
      "border": null,
      "bottom": null,
      "display": null,
      "flex": null,
      "flex_flow": null,
      "grid_area": null,
      "grid_auto_columns": null,
      "grid_auto_flow": null,
      "grid_auto_rows": null,
      "grid_column": null,
      "grid_gap": null,
      "grid_row": null,
      "grid_template_areas": null,
      "grid_template_columns": null,
      "grid_template_rows": null,
      "height": null,
      "justify_content": null,
      "justify_items": null,
      "left": null,
      "margin": null,
      "max_height": null,
      "max_width": null,
      "min_height": null,
      "min_width": null,
      "object_fit": null,
      "object_position": null,
      "order": null,
      "overflow": null,
      "overflow_x": null,
      "overflow_y": null,
      "padding": null,
      "right": null,
      "top": null,
      "visibility": null,
      "width": null
     }
    },
    "fdb07876699848aeb91eaa40a103e0e1": {
     "model_module": "@jupyter-widgets/base",
     "model_module_version": "1.2.0",
     "model_name": "LayoutModel",
     "state": {
      "_model_module": "@jupyter-widgets/base",
      "_model_module_version": "1.2.0",
      "_model_name": "LayoutModel",
      "_view_count": null,
      "_view_module": "@jupyter-widgets/base",
      "_view_module_version": "1.2.0",
      "_view_name": "LayoutView",
      "align_content": null,
      "align_items": null,
      "align_self": null,
      "border": null,
      "bottom": null,
      "display": null,
      "flex": null,
      "flex_flow": null,
      "grid_area": null,
      "grid_auto_columns": null,
      "grid_auto_flow": null,
      "grid_auto_rows": null,
      "grid_column": null,
      "grid_gap": null,
      "grid_row": null,
      "grid_template_areas": null,
      "grid_template_columns": null,
      "grid_template_rows": null,
      "height": null,
      "justify_content": null,
      "justify_items": null,
      "left": null,
      "margin": null,
      "max_height": null,
      "max_width": null,
      "min_height": null,
      "min_width": null,
      "object_fit": null,
      "object_position": null,
      "order": null,
      "overflow": null,
      "overflow_x": null,
      "overflow_y": null,
      "padding": null,
      "right": null,
      "top": null,
      "visibility": null,
      "width": null
     }
    }
   }
  }
 },
 "nbformat": 4,
 "nbformat_minor": 4
}
