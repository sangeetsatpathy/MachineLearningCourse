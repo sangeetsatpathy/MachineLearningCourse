{
 "cells": [
  {
   "cell_type": "markdown",
   "metadata": {},
   "source": [
    "\n",
    "# Webscraping with BeautifulSoup and requests\n",
    "\n",
    "\n",
    "---"
   ]
  },
  {
   "cell_type": "markdown",
   "metadata": {},
   "source": [
    "## Learning Objectives\n",
    "\n",
    "After this lesson students will be able to:\n",
    "- Get HTML content from websites with requests \n",
    "- Parse website content with BeautifulSoup\n",
    "\n",
    "\n",
    "### Prior knowledge required\n",
    "- Python and pandas basics\n",
    "---\n",
    "\n",
    "# Web scraping issues\n",
    "\n",
    "## Terms of service ⭐️\n",
    "Google is your friend. See what it says about webscraping.\n",
    "\n",
    "The law is unresolved, but generally, if the data is publicly available and you are using it for educational purposes, it's unlikely that you will have problems. "
   ]
  },
  {
   "cell_type": "markdown",
   "metadata": {},
   "source": [
    "## Let's do some scraping\n",
    "### Imports"
   ]
  },
  {
   "cell_type": "code",
   "execution_count": null,
   "metadata": {},
   "outputs": [],
   "source": [
    "# install if needed\n",
    "# pip install bs4"
   ]
  },
  {
   "cell_type": "code",
   "execution_count": 1,
   "metadata": {},
   "outputs": [],
   "source": [
    "\n",
    "\n",
    "# import pandas, bs4, and requests\n",
    "import pandas as pd\n",
    "from bs4 import BeautifulSoup\n",
    "import requests"
   ]
  },
  {
   "cell_type": "markdown",
   "metadata": {},
   "source": [
    "#### Use the requests library to get the content of a sample webpage"
   ]
  },
  {
   "cell_type": "code",
   "execution_count": 2,
   "metadata": {},
   "outputs": [],
   "source": [
    "import bs4"
   ]
  },
  {
   "cell_type": "code",
   "execution_count": 3,
   "metadata": {},
   "outputs": [
    {
     "data": {
      "text/plain": [
       "'4.13.4'"
      ]
     },
     "execution_count": 3,
     "metadata": {},
     "output_type": "execute_result"
    }
   ],
   "source": [
    "bs4.__version__"
   ]
  },
  {
   "cell_type": "code",
   "execution_count": null,
   "metadata": {},
   "outputs": [],
   "source": []
  },
  {
   "cell_type": "code",
   "execution_count": 4,
   "metadata": {},
   "outputs": [],
   "source": [
    "url = 'https://rldaggie.github.io/sample-html/'\n",
    "response = requests.get(url)"
   ]
  },
  {
   "cell_type": "markdown",
   "metadata": {},
   "source": [
    "#### What did we get back?"
   ]
  },
  {
   "cell_type": "code",
   "execution_count": 5,
   "metadata": {},
   "outputs": [
    {
     "data": {
      "text/plain": [
       "<Response [200]>"
      ]
     },
     "execution_count": 5,
     "metadata": {},
     "output_type": "execute_result"
    }
   ],
   "source": [
    "response"
   ]
  },
  {
   "cell_type": "markdown",
   "metadata": {},
   "source": [
    "#### Our response object has a lot more in it, we just have to get it out.\n",
    "#### Status Codes"
   ]
  },
  {
   "cell_type": "code",
   "execution_count": 7,
   "metadata": {},
   "outputs": [
    {
     "data": {
      "text/plain": [
       "200"
      ]
     },
     "execution_count": 7,
     "metadata": {},
     "output_type": "execute_result"
    }
   ],
   "source": [
    "response.status_code"
   ]
  },
  {
   "cell_type": "markdown",
   "metadata": {},
   "source": [
    "## Status codes\n",
    "Status codes tell you how the target server responded to your request"
   ]
  },
  {
   "cell_type": "markdown",
   "metadata": {},
   "source": [
    "#### 200 = OK\n",
    "\n",
    "#### 300s = Redirection\n",
    "\n",
    "#### 400s = Client Error\n",
    "- 400 = Bad Request\n",
    "- 403 = Forbidden (not authorized)\n",
    "- 404 = Not Found\n",
    "\n",
    "#### 500s = Server Error"
   ]
  },
  {
   "cell_type": "markdown",
   "metadata": {},
   "source": [
    "If your request was successful, you now have the contents of the webpage stored in memory on your machine."
   ]
  },
  {
   "cell_type": "markdown",
   "metadata": {},
   "source": [
    "---\n",
    "#### Let's get the good stuff 🚀"
   ]
  },
  {
   "cell_type": "code",
   "execution_count": 17,
   "metadata": {
    "tags": []
   },
   "outputs": [
    {
     "data": {
      "text/plain": [
       "411"
      ]
     },
     "execution_count": 17,
     "metadata": {},
     "output_type": "execute_result"
    }
   ],
   "source": [
    "response.text.find('<li')"
   ]
  },
  {
   "cell_type": "code",
   "execution_count": 16,
   "metadata": {},
   "outputs": [
    {
     "data": {
      "text/plain": [
       "'<!DOCTYPE html>\\n<html>\\n  <head>\\n    <meta charset=\"utf-8\">\\n    <title>The title</title>\\n\\n    <style media=\"screen\">\\n      tbody tr {\\n        color: red;\\n      }\\n    </style>\\n  </head>\\n  <body>\\n    <h1 class=\"foobar\" id=\"title\">This is an h1</h1>\\n\\n    <div>\\n      <h1 class=\"foobar\">This is yet another heading.</h1>\\n\\n      Something inside the div\\n    </div>\\n\\n    <h3>Todo List</h3>\\n    <ol class=\"todo\">\\n      <li class=\"foobar\">Take out trash</li>\\n      <li>Pay billz</li>\\n      <li class=\"foobar\">Feed dog</li>\\n    </ol>\\n\\n    <h3>Completed</h3>\\n    <ol class=\\'done\\'>\\n      <li>Mow lawn</li>\\n      <li class=\"foobar\"><span>Take out compost</span></li>\\n      <li><span>Create scraping lecture</span></li>\\n    </ol>\\n\\n    <p class=\\'foobar\\'>Lorem ipsum dolor sit amet, consectetur adipisicing elit, sed do eiusmod tempor incididunt ut labore et dolore magna aliqua. Ut enim ad minim veniam, quis nostrud exercitation ullamco laboris nisi ut aliquip ex ea commodo consequat. <span>Duis aute irure dolor</span> in reprehenderit in voluptate velit esse cillum dolore eu fugiat nulla pariatur. <em>Excepteur sint occaecat cupidatat non proident, sunt in culpa qui officia deserunt mollit anim id est laborum</em>.</p>\\n\\n    <p>Lorem ipsum dolor sit amet, consectetur adipisicing elit, sed do eiusmod tempor incididunt ut labore et dolore magna aliqua. Ut enim ad minim veniam, quis nostrud exercitation ullamco laboris nisi ut aliquip ex ea commodo consequat. <strong><em>Duis aute irure dolor in reprehenderit in voluptate velit esse cillum dolore eu fugiat nulla pariatur</em></strong>. Excepteur sint occaecat cupidatat non proident, sunt in culpa qui officia deserunt mollit anim id est laborum.</p>\\n\\n    <table id=\"directory\">\\n      <thead>\\n        <tr>\\n          <th>Name</th>\\n          <th>Role</th>\\n        </tr>\\n      </thead>\\n\\n      <tbody>\\n        <tr class=\\'student\\'>\\n          <th><a href=\"mailto:praveen@ga.co\">Praveen\\n\\n\\n\\n          </a></th>\\n          <td>Student</td>\\n        </tr>\\n        <tr class=\\'student\\'>\\n          <th><a href=\"mailto:fred@ga.co\">Fred\\n\\n\\n\\n          </a></th>\\n          <td>Student</td>\\n        </tr>\\n        <tr class=\\'student\\'>\\n          <th><a href=\"mailto:homer@ga.co\">Homer\\n\\n\\n\\n          </a></th>\\n          <td><span class=\\'foobar\\'>Student</span></td>\\n        </tr>\\n        <tr class=\\'student\\'>\\n          <th><a href=\"mailto:kyle@ga.co\">Kyle\\n\\n\\n\\n          </a></th>\\n          <td>Student</td>\\n        </tr>\\n        <tr class=\\'student\\'>\\n          <th><a href=\"mailto:sam@ga.co\">Sam\\n\\n\\n\\n          </a></th>\\n          <td>Student</td>\\n        </tr>\\n        <tr class=\\'student\\'>\\n          <th><a href=\"mailto:javier@ga.co\">Javier\\n\\n\\n\\n          </a></th>\\n          <td>Student</td>\\n        </tr>\\n        <tr class=\\'student\\'>\\n          <th><a href=\"mailto:nengkuan@ga.co\">Nengkuan\\n\\n\\n\\n          </a></th>\\n          <td>Student</td>\\n        </tr>\\n        <tr class=\\'student\\'>\\n          <th><a href=\"mailto:kieth@ga.co\">Kieth\\n\\n\\n\\n          </a></th>\\n          <td>Student</td>\\n        </tr>\\n        <tr class=\\'student\\'>\\n          <th><a href=\"mailto:bola@ga.co\">Bola\\n\\n\\n\\n          </a></th>\\n          <td>Student</td>\\n        </tr>\\n        <tr class=\\'student\\'>\\n          <th><a href=\"mailto:steve@ga.co\">Steve\\n\\n\\n\\n          </a></th>\\n          <td>Student</td>\\n        </tr>\\n        <tr class=\\'student\\'>\\n          <th><a href=\"mailto:nichole@ga.co\">Nichole\\n\\n\\n\\n          </a></th>\\n          <td>Instructor</td>\\n        </tr>\\n        <tr class=\\'student\\'>\\n          <th><a href=\"mailto:riley@ga.co\">Riley\\n\\n\\n\\n          </a></th>\\n          <td>Instructor</td>\\n        </tr>\\n      </tbody>\\n    </table>\\n\\n    <footer>\\n      <p>Copyright 2017. All rights reserved</p>\\n\\n      <ul>\\n        <li><a href=\"#\">Home</a></li>\\n        <li><a href=\"#\">About</a></li>\\n        <li><a href=\"#\">Contact</a></li>\\n      </ul>\\n    </footer>\\n  </body>\\n</html>\\n'"
      ]
     },
     "execution_count": 16,
     "metadata": {},
     "output_type": "execute_result"
    }
   ],
   "source": [
    "response.text"
   ]
  },
  {
   "cell_type": "code",
   "execution_count": 19,
   "metadata": {},
   "outputs": [
    {
     "data": {
      "text/plain": [
       "3803"
      ]
     },
     "execution_count": 19,
     "metadata": {},
     "output_type": "execute_result"
    }
   ],
   "source": [
    "response.text.rindex('</li>')"
   ]
  },
  {
   "cell_type": "code",
   "execution_count": 22,
   "metadata": {
    "tags": []
   },
   "outputs": [
    {
     "data": {
      "text/plain": [
       "'<li class=\"foobar\">Take out trash</li>\\n      <li>Pay billz</li>\\n      <li class=\"foobar\">Feed dog</li>\\n    </ol>\\n\\n    <h3>Completed</h3>\\n    <ol class=\\'done\\'>\\n      <li>Mow lawn</li>\\n      <li class=\"foobar\"><span>Take out compost</span></li>\\n      <li><span>Create scraping lecture</span></li>\\n    </ol>\\n\\n    <p class=\\'foobar\\'>Lorem ipsum dolor sit amet, consectetur adipisicing elit, sed do eiusmod tempor incididunt ut labore et dolore magna aliqua. Ut enim ad minim veniam, quis nostrud exercitation ullamco laboris nisi ut aliquip ex ea commodo consequat. <span>Duis aute irure dolor</span> in reprehenderit in voluptate velit esse cillum dolore eu fugiat nulla pariatur. <em>Excepteur sint occaecat cupidatat non proident, sunt in culpa qui officia deserunt mollit anim id est laborum</em>.</p>\\n\\n    <p>Lorem ipsum dolor sit amet, consectetur adipisicing elit, sed do eiusmod tempor incididunt ut labore et dolore magna aliqua. Ut enim ad minim veniam, quis nostrud exercitation ullamco laboris nisi ut aliquip ex ea commodo consequat. <strong><em>Duis aute irure dolor in reprehenderit in voluptate velit esse cillum dolore eu fugiat nulla pariatur</em></strong>. Excepteur sint occaecat cupidatat non proident, sunt in culpa qui officia deserunt mollit anim id est laborum.</p>\\n\\n    <table id=\"directory\">\\n      <thead>\\n        <tr>\\n          <th>Name</th>\\n          <th>Role</th>\\n        </tr>\\n      </thead>\\n\\n      <tbody>\\n        <tr class=\\'student\\'>\\n          <th><a href=\"mailto:praveen@ga.co\">Praveen\\n\\n\\n\\n          </a></th>\\n          <td>Student</td>\\n        </tr>\\n        <tr class=\\'student\\'>\\n          <th><a href=\"mailto:fred@ga.co\">Fred\\n\\n\\n\\n          </a></th>\\n          <td>Student</td>\\n        </tr>\\n        <tr class=\\'student\\'>\\n          <th><a href=\"mailto:homer@ga.co\">Homer\\n\\n\\n\\n          </a></th>\\n          <td><span class=\\'foobar\\'>Student</span></td>\\n        </tr>\\n        <tr class=\\'student\\'>\\n          <th><a href=\"mailto:kyle@ga.co\">Kyle\\n\\n\\n\\n          </a></th>\\n          <td>Student</td>\\n        </tr>\\n        <tr class=\\'student\\'>\\n          <th><a href=\"mailto:sam@ga.co\">Sam\\n\\n\\n\\n          </a></th>\\n          <td>Student</td>\\n        </tr>\\n        <tr class=\\'student\\'>\\n          <th><a href=\"mailto:javier@ga.co\">Javier\\n\\n\\n\\n          </a></th>\\n          <td>Student</td>\\n        </tr>\\n        <tr class=\\'student\\'>\\n          <th><a href=\"mailto:nengkuan@ga.co\">Nengkuan\\n\\n\\n\\n          </a></th>\\n          <td>Student</td>\\n        </tr>\\n        <tr class=\\'student\\'>\\n          <th><a href=\"mailto:kieth@ga.co\">Kieth\\n\\n\\n\\n          </a></th>\\n          <td>Student</td>\\n        </tr>\\n        <tr class=\\'student\\'>\\n          <th><a href=\"mailto:bola@ga.co\">Bola\\n\\n\\n\\n          </a></th>\\n          <td>Student</td>\\n        </tr>\\n        <tr class=\\'student\\'>\\n          <th><a href=\"mailto:steve@ga.co\">Steve\\n\\n\\n\\n          </a></th>\\n          <td>Student</td>\\n        </tr>\\n        <tr class=\\'student\\'>\\n          <th><a href=\"mailto:nichole@ga.co\">Nichole\\n\\n\\n\\n          </a></th>\\n          <td>Instructor</td>\\n        </tr>\\n        <tr class=\\'student\\'>\\n          <th><a href=\"mailto:riley@ga.co\">Riley\\n\\n\\n\\n          </a></th>\\n          <td>Instructor</td>\\n        </tr>\\n      </tbody>\\n    </table>\\n\\n    <footer>\\n      <p>Copyright 2017. All rights reserved</p>\\n\\n      <ul>\\n        <li><a href=\"#\">Home</a></li>\\n        <li><a href=\"#\">About</a></li>\\n        <li><a href=\"#\">Contact</a></li>\\n '"
      ]
     },
     "execution_count": 22,
     "metadata": {},
     "output_type": "execute_result"
    }
   ],
   "source": [
    "response.text[411:3810]"
   ]
  },
  {
   "cell_type": "code",
   "execution_count": null,
   "metadata": {
    "tags": []
   },
   "outputs": [],
   "source": []
  },
  {
   "cell_type": "code",
   "execution_count": null,
   "metadata": {},
   "outputs": [],
   "source": []
  },
  {
   "cell_type": "markdown",
   "metadata": {},
   "source": [
    "#### We could parse this by hand 😿\n",
    "\n",
    "#### But that would be painful and we can instead use a library 😀\n",
    "### Create a `BeautifulSoup` object"
   ]
  },
  {
   "cell_type": "code",
   "execution_count": 23,
   "metadata": {
    "tags": []
   },
   "outputs": [],
   "source": [
    "soup = BeautifulSoup(response.text)"
   ]
  },
  {
   "cell_type": "markdown",
   "metadata": {},
   "source": [
    "### What is it"
   ]
  },
  {
   "cell_type": "code",
   "execution_count": 24,
   "metadata": {},
   "outputs": [
    {
     "data": {
      "text/plain": [
       "bs4.BeautifulSoup"
      ]
     },
     "execution_count": 24,
     "metadata": {},
     "output_type": "execute_result"
    }
   ],
   "source": [
    "type(soup)"
   ]
  },
  {
   "cell_type": "markdown",
   "metadata": {},
   "source": [
    "#### Let's take a look at it"
   ]
  },
  {
   "cell_type": "code",
   "execution_count": 25,
   "metadata": {},
   "outputs": [
    {
     "data": {
      "text/plain": [
       "<!DOCTYPE html>\n",
       "<html>\n",
       "<head>\n",
       "<meta charset=\"utf-8\"/>\n",
       "<title>The title</title>\n",
       "<style media=\"screen\">\n",
       "      tbody tr {\n",
       "        color: red;\n",
       "      }\n",
       "    </style>\n",
       "</head>\n",
       "<body>\n",
       "<h1 class=\"foobar\" id=\"title\">This is an h1</h1>\n",
       "<div>\n",
       "<h1 class=\"foobar\">This is yet another heading.</h1>\n",
       "\n",
       "      Something inside the div\n",
       "    </div>\n",
       "<h3>Todo List</h3>\n",
       "<ol class=\"todo\">\n",
       "<li class=\"foobar\">Take out trash</li>\n",
       "<li>Pay billz</li>\n",
       "<li class=\"foobar\">Feed dog</li>\n",
       "</ol>\n",
       "<h3>Completed</h3>\n",
       "<ol class=\"done\">\n",
       "<li>Mow lawn</li>\n",
       "<li class=\"foobar\"><span>Take out compost</span></li>\n",
       "<li><span>Create scraping lecture</span></li>\n",
       "</ol>\n",
       "<p class=\"foobar\">Lorem ipsum dolor sit amet, consectetur adipisicing elit, sed do eiusmod tempor incididunt ut labore et dolore magna aliqua. Ut enim ad minim veniam, quis nostrud exercitation ullamco laboris nisi ut aliquip ex ea commodo consequat. <span>Duis aute irure dolor</span> in reprehenderit in voluptate velit esse cillum dolore eu fugiat nulla pariatur. <em>Excepteur sint occaecat cupidatat non proident, sunt in culpa qui officia deserunt mollit anim id est laborum</em>.</p>\n",
       "<p>Lorem ipsum dolor sit amet, consectetur adipisicing elit, sed do eiusmod tempor incididunt ut labore et dolore magna aliqua. Ut enim ad minim veniam, quis nostrud exercitation ullamco laboris nisi ut aliquip ex ea commodo consequat. <strong><em>Duis aute irure dolor in reprehenderit in voluptate velit esse cillum dolore eu fugiat nulla pariatur</em></strong>. Excepteur sint occaecat cupidatat non proident, sunt in culpa qui officia deserunt mollit anim id est laborum.</p>\n",
       "<table id=\"directory\">\n",
       "<thead>\n",
       "<tr>\n",
       "<th>Name</th>\n",
       "<th>Role</th>\n",
       "</tr>\n",
       "</thead>\n",
       "<tbody>\n",
       "<tr class=\"student\">\n",
       "<th><a href=\"mailto:praveen@ga.co\">Praveen\n",
       "\n",
       "\n",
       "\n",
       "          </a></th>\n",
       "<td>Student</td>\n",
       "</tr>\n",
       "<tr class=\"student\">\n",
       "<th><a href=\"mailto:fred@ga.co\">Fred\n",
       "\n",
       "\n",
       "\n",
       "          </a></th>\n",
       "<td>Student</td>\n",
       "</tr>\n",
       "<tr class=\"student\">\n",
       "<th><a href=\"mailto:homer@ga.co\">Homer\n",
       "\n",
       "\n",
       "\n",
       "          </a></th>\n",
       "<td><span class=\"foobar\">Student</span></td>\n",
       "</tr>\n",
       "<tr class=\"student\">\n",
       "<th><a href=\"mailto:kyle@ga.co\">Kyle\n",
       "\n",
       "\n",
       "\n",
       "          </a></th>\n",
       "<td>Student</td>\n",
       "</tr>\n",
       "<tr class=\"student\">\n",
       "<th><a href=\"mailto:sam@ga.co\">Sam\n",
       "\n",
       "\n",
       "\n",
       "          </a></th>\n",
       "<td>Student</td>\n",
       "</tr>\n",
       "<tr class=\"student\">\n",
       "<th><a href=\"mailto:javier@ga.co\">Javier\n",
       "\n",
       "\n",
       "\n",
       "          </a></th>\n",
       "<td>Student</td>\n",
       "</tr>\n",
       "<tr class=\"student\">\n",
       "<th><a href=\"mailto:nengkuan@ga.co\">Nengkuan\n",
       "\n",
       "\n",
       "\n",
       "          </a></th>\n",
       "<td>Student</td>\n",
       "</tr>\n",
       "<tr class=\"student\">\n",
       "<th><a href=\"mailto:kieth@ga.co\">Kieth\n",
       "\n",
       "\n",
       "\n",
       "          </a></th>\n",
       "<td>Student</td>\n",
       "</tr>\n",
       "<tr class=\"student\">\n",
       "<th><a href=\"mailto:bola@ga.co\">Bola\n",
       "\n",
       "\n",
       "\n",
       "          </a></th>\n",
       "<td>Student</td>\n",
       "</tr>\n",
       "<tr class=\"student\">\n",
       "<th><a href=\"mailto:steve@ga.co\">Steve\n",
       "\n",
       "\n",
       "\n",
       "          </a></th>\n",
       "<td>Student</td>\n",
       "</tr>\n",
       "<tr class=\"student\">\n",
       "<th><a href=\"mailto:nichole@ga.co\">Nichole\n",
       "\n",
       "\n",
       "\n",
       "          </a></th>\n",
       "<td>Instructor</td>\n",
       "</tr>\n",
       "<tr class=\"student\">\n",
       "<th><a href=\"mailto:riley@ga.co\">Riley\n",
       "\n",
       "\n",
       "\n",
       "          </a></th>\n",
       "<td>Instructor</td>\n",
       "</tr>\n",
       "</tbody>\n",
       "</table>\n",
       "<footer>\n",
       "<p>Copyright 2017. All rights reserved</p>\n",
       "<ul>\n",
       "<li><a href=\"#\">Home</a></li>\n",
       "<li><a href=\"#\">About</a></li>\n",
       "<li><a href=\"#\">Contact</a></li>\n",
       "</ul>\n",
       "</footer>\n",
       "</body>\n",
       "</html>"
      ]
     },
     "execution_count": 25,
     "metadata": {},
     "output_type": "execute_result"
    }
   ],
   "source": [
    "soup\n",
    "# soup"
   ]
  },
  {
   "cell_type": "markdown",
   "metadata": {},
   "source": [
    "# `soup.find()`\n",
    "\n",
    "### Returns either:\n",
    "\n",
    "1. A soup object of the first match\n",
    "2. `None`"
   ]
  },
  {
   "cell_type": "code",
   "execution_count": 26,
   "metadata": {},
   "outputs": [
    {
     "data": {
      "text/plain": [
       "<li class=\"foobar\">Take out trash</li>"
      ]
     },
     "execution_count": 26,
     "metadata": {},
     "output_type": "execute_result"
    }
   ],
   "source": [
    "soup.find('li')"
   ]
  },
  {
   "cell_type": "code",
   "execution_count": 27,
   "metadata": {},
   "outputs": [],
   "source": [
    "li = soup.find('li')"
   ]
  },
  {
   "cell_type": "code",
   "execution_count": 28,
   "metadata": {},
   "outputs": [
    {
     "data": {
      "text/plain": [
       "bs4.element.Tag"
      ]
     },
     "execution_count": 28,
     "metadata": {},
     "output_type": "execute_result"
    }
   ],
   "source": [
    "type(li)"
   ]
  },
  {
   "cell_type": "markdown",
   "metadata": {},
   "source": [
    "#### Get the text in the tag"
   ]
  },
  {
   "cell_type": "code",
   "execution_count": 29,
   "metadata": {},
   "outputs": [
    {
     "data": {
      "text/plain": [
       "'Take out trash'"
      ]
     },
     "execution_count": 29,
     "metadata": {},
     "output_type": "execute_result"
    }
   ],
   "source": [
    "li.text"
   ]
  },
  {
   "cell_type": "markdown",
   "metadata": {},
   "source": [
    "#### Get the attributes of the tag"
   ]
  },
  {
   "cell_type": "code",
   "execution_count": 30,
   "metadata": {},
   "outputs": [
    {
     "data": {
      "text/plain": [
       "{'class': ['foobar']}"
      ]
     },
     "execution_count": 30,
     "metadata": {},
     "output_type": "execute_result"
    }
   ],
   "source": [
    "li.attrs"
   ]
  },
  {
   "cell_type": "code",
   "execution_count": 31,
   "metadata": {},
   "outputs": [
    {
     "data": {
      "text/plain": [
       "<li class=\"foobar\">Take out trash</li>"
      ]
     },
     "execution_count": 31,
     "metadata": {},
     "output_type": "execute_result"
    }
   ],
   "source": [
    "li"
   ]
  },
  {
   "cell_type": "markdown",
   "metadata": {},
   "source": [
    "# ⭐️ ⭐️`soup.find_all()` ⭐️ ⭐️\n",
    "\n",
    "### Returns a **_LIST_** (techically a bs4.element.ResultSet) of soup objects that match your query.\n",
    "\n",
    "## Behaves differently than `find()`"
   ]
  },
  {
   "cell_type": "code",
   "execution_count": 32,
   "metadata": {},
   "outputs": [
    {
     "data": {
      "text/plain": [
       "[<li class=\"foobar\">Take out trash</li>,\n",
       " <li>Pay billz</li>,\n",
       " <li class=\"foobar\">Feed dog</li>,\n",
       " <li>Mow lawn</li>,\n",
       " <li class=\"foobar\"><span>Take out compost</span></li>,\n",
       " <li><span>Create scraping lecture</span></li>,\n",
       " <li><a href=\"#\">Home</a></li>,\n",
       " <li><a href=\"#\">About</a></li>,\n",
       " <li><a href=\"#\">Contact</a></li>]"
      ]
     },
     "execution_count": 32,
     "metadata": {},
     "output_type": "execute_result"
    }
   ],
   "source": [
    "soup.find_all('li')"
   ]
  },
  {
   "cell_type": "code",
   "execution_count": 33,
   "metadata": {},
   "outputs": [
    {
     "data": {
      "text/plain": [
       "['Take out trash',\n",
       " 'Pay billz',\n",
       " 'Feed dog',\n",
       " 'Mow lawn',\n",
       " 'Take out compost',\n",
       " 'Create scraping lecture',\n",
       " 'Home',\n",
       " 'About',\n",
       " 'Contact']"
      ]
     },
     "execution_count": 33,
     "metadata": {},
     "output_type": "execute_result"
    }
   ],
   "source": [
    "[t.text for t in soup.find_all('li')]"
   ]
  },
  {
   "cell_type": "markdown",
   "metadata": {},
   "source": [
    "<Li>this work?</Li>"
   ]
  },
  {
   "cell_type": "code",
   "execution_count": null,
   "metadata": {},
   "outputs": [],
   "source": []
  },
  {
   "cell_type": "code",
   "execution_count": null,
   "metadata": {},
   "outputs": [],
   "source": []
  },
  {
   "cell_type": "code",
   "execution_count": null,
   "metadata": {},
   "outputs": [],
   "source": []
  },
  {
   "cell_type": "code",
   "execution_count": null,
   "metadata": {},
   "outputs": [],
   "source": []
  },
  {
   "cell_type": "code",
   "execution_count": null,
   "metadata": {},
   "outputs": [],
   "source": []
  },
  {
   "cell_type": "code",
   "execution_count": null,
   "metadata": {},
   "outputs": [],
   "source": []
  },
  {
   "cell_type": "code",
   "execution_count": null,
   "metadata": {},
   "outputs": [],
   "source": []
  },
  {
   "cell_type": "markdown",
   "metadata": {
    "jupyter": {
     "source_hidden": true
    },
    "tags": []
   },
   "source": [
    "#### Make a list comprehension that creates a list containing only the text of the tags"
   ]
  },
  {
   "cell_type": "code",
   "execution_count": 36,
   "metadata": {},
   "outputs": [
    {
     "data": {
      "text/plain": [
       "['Take out trash',\n",
       " 'Pay billz',\n",
       " 'Feed dog',\n",
       " 'Mow lawn',\n",
       " 'Take out compost',\n",
       " 'Create scraping lecture',\n",
       " 'Home',\n",
       " 'About',\n",
       " 'Contact']"
      ]
     },
     "execution_count": 36,
     "metadata": {},
     "output_type": "execute_result"
    }
   ],
   "source": [
    "l = [t.text for t in soup.find_all(\"li\")]\n",
    "l"
   ]
  },
  {
   "cell_type": "markdown",
   "metadata": {},
   "source": [
    "#### List comprehension that puts the classes of the h1 tags in a list"
   ]
  },
  {
   "cell_type": "code",
   "execution_count": 37,
   "metadata": {},
   "outputs": [
    {
     "data": {
      "text/plain": [
       "'This is an h1'"
      ]
     },
     "execution_count": 37,
     "metadata": {},
     "output_type": "execute_result"
    }
   ],
   "source": [
    "soup.find('h1').text"
   ]
  },
  {
   "cell_type": "code",
   "execution_count": 38,
   "metadata": {},
   "outputs": [
    {
     "data": {
      "text/plain": [
       "['foobar']"
      ]
     },
     "execution_count": 38,
     "metadata": {},
     "output_type": "execute_result"
    }
   ],
   "source": [
    "soup.find('h1').attrs['class']"
   ]
  },
  {
   "cell_type": "code",
   "execution_count": 39,
   "metadata": {},
   "outputs": [
    {
     "data": {
      "text/plain": [
       "[['foobar'], ['foobar']]"
      ]
     },
     "execution_count": 39,
     "metadata": {},
     "output_type": "execute_result"
    }
   ],
   "source": [
    "[i.attrs['class'] for i in soup.find_all('h1')]"
   ]
  },
  {
   "cell_type": "code",
   "execution_count": 40,
   "metadata": {},
   "outputs": [
    {
     "data": {
      "text/plain": [
       "[['foobar'], ['foobar']]"
      ]
     },
     "execution_count": 40,
     "metadata": {},
     "output_type": "execute_result"
    }
   ],
   "source": [
    "[tag['class'] for tag in soup.find_all('h1') if tag.has_attr('class')]"
   ]
  },
  {
   "cell_type": "markdown",
   "metadata": {},
   "source": [
    "## Todo List\n",
    "\n",
    "Find the ordered list items where the class = 'done'"
   ]
  },
  {
   "cell_type": "code",
   "execution_count": 33,
   "metadata": {},
   "outputs": [],
   "source": [
    "done = soup.find('ol',attrs={'class':'done'})"
   ]
  },
  {
   "cell_type": "code",
   "execution_count": 38,
   "metadata": {},
   "outputs": [
    {
     "data": {
      "text/plain": [
       "<ol class=\"done\">\n",
       "<li>Mow lawn</li>\n",
       "<li class=\"foobar\"><span>Take out compost</span></li>\n",
       "<li><span>Create scraping lecture</span></li>\n",
       "</ol>"
      ]
     },
     "execution_count": 38,
     "metadata": {},
     "output_type": "execute_result"
    }
   ],
   "source": [
    "done"
   ]
  },
  {
   "cell_type": "markdown",
   "metadata": {},
   "source": [
    "#### Get the list item texts from the ol"
   ]
  },
  {
   "cell_type": "code",
   "execution_count": 40,
   "metadata": {},
   "outputs": [
    {
     "data": {
      "text/plain": [
       "[<li>Mow lawn</li>,\n",
       " <li class=\"foobar\"><span>Take out compost</span></li>,\n",
       " <li><span>Create scraping lecture</span></li>]"
      ]
     },
     "execution_count": 40,
     "metadata": {},
     "output_type": "execute_result"
    }
   ],
   "source": [
    "done.find_all('li')"
   ]
  },
  {
   "cell_type": "code",
   "execution_count": 41,
   "metadata": {},
   "outputs": [
    {
     "data": {
      "text/plain": [
       "['Mow lawn', 'Take out compost', 'Create scraping lecture']"
      ]
     },
     "execution_count": 41,
     "metadata": {},
     "output_type": "execute_result"
    }
   ],
   "source": [
    "[t.text for t in done.find_all('li')]"
   ]
  },
  {
   "cell_type": "code",
   "execution_count": null,
   "metadata": {},
   "outputs": [],
   "source": []
  },
  {
   "cell_type": "markdown",
   "metadata": {
    "tags": []
   },
   "source": [
    "## Let's scrape a music reviews website\n",
    "\n",
    "### TOS\n",
    "\n",
    "Find the Terms of Service for the website. \n",
    "\n",
    "### robots.txt\n",
    "\n",
    "- robots.txt https:my_site_name_here.com/robots.txt tells you what pages it would like you to crawl."
   ]
  },
  {
   "cell_type": "markdown",
   "metadata": {},
   "source": [
    "#### Get the content"
   ]
  },
  {
   "cell_type": "code",
   "execution_count": 50,
   "metadata": {},
   "outputs": [],
   "source": [
    "url = 'https://pitchfork.com/reviews/albums/'\n",
    "\n",
    "response = requests.get(url)\n",
    "\n",
    "# response.text\n",
    "\n",
    "soup = BeautifulSoup(response.text)\n",
    "soup.find('h2')"
   ]
  },
  {
   "cell_type": "code",
   "execution_count": 43,
   "metadata": {},
   "outputs": [
    {
     "data": {
      "text/plain": [
       "[]"
      ]
     },
     "execution_count": 43,
     "metadata": {},
     "output_type": "execute_result"
    }
   ],
   "source": [
    "\n",
    "\n",
    "\n",
    "\n",
    "#album titles\n",
    "soup.find('h2')\n",
    "\n",
    "albums = [t.text for t in soup.find_all('h2')]\n",
    "\n",
    "soup.find('ul', {'class': 'artist-list'})\n",
    "\n",
    "artists = [t.text for t in soup.find_all('ul', {'class': 'artist-list'})]\n",
    "\n",
    "albums"
   ]
  },
  {
   "cell_type": "code",
   "execution_count": 42,
   "metadata": {},
   "outputs": [
    {
     "data": {
      "text/html": [
       "<div>\n",
       "<style scoped>\n",
       "    .dataframe tbody tr th:only-of-type {\n",
       "        vertical-align: middle;\n",
       "    }\n",
       "\n",
       "    .dataframe tbody tr th {\n",
       "        vertical-align: top;\n",
       "    }\n",
       "\n",
       "    .dataframe thead th {\n",
       "        text-align: right;\n",
       "    }\n",
       "</style>\n",
       "<table border=\"1\" class=\"dataframe\">\n",
       "  <thead>\n",
       "    <tr style=\"text-align: right;\">\n",
       "      <th></th>\n",
       "      <th>artist</th>\n",
       "      <th>album</th>\n",
       "    </tr>\n",
       "  </thead>\n",
       "  <tbody>\n",
       "  </tbody>\n",
       "</table>\n",
       "</div>"
      ],
      "text/plain": [
       "Empty DataFrame\n",
       "Columns: [artist, album]\n",
       "Index: []"
      ]
     },
     "execution_count": 42,
     "metadata": {},
     "output_type": "execute_result"
    }
   ],
   "source": [
    "pd.DataFrame({'artist': artists, 'album': albums})"
   ]
  },
  {
   "cell_type": "markdown",
   "metadata": {},
   "source": [
    "#### Find the content of any H2 tags with BS4"
   ]
  },
  {
   "cell_type": "code",
   "execution_count": 56,
   "metadata": {},
   "outputs": [],
   "source": [
    "reviews = soup.find_all('div', {'class': 'review'})"
   ]
  },
  {
   "cell_type": "code",
   "execution_count": 64,
   "metadata": {
    "tags": []
   },
   "outputs": [
    {
     "data": {
      "text/plain": [
       "<div class=\"review\"><a class=\"review__link\" href=\"/reviews/albums/beyonce-cowboy-carter/\"><div class=\"review__artwork artwork\"><div class=\"review__artwork--with-notch\"><img alt=\"Beyoncé: Cowboy Carter\" src=\"https://media.pitchfork.com/photos/65f9ba5e7f6a6f4c6c74a9d8/1:1/w_160/Beyonce-Cowboy-Carter.jpg\"/></div></div><div class=\"review__title\"><ul class=\"artist-list review__title-artist\"><li>Beyoncé</li></ul><h2 class=\"review__title-album\"><em>Cowboy Carter</em></h2></div></a><div class=\"review__meta\"><a class=\"review__meta-bnm\" href=\"/reviews/best/albums/\">Best New Album</a><ul class=\"genre-list genre-list--inline review__genre-list\"><li class=\"genre-list__item\"><a class=\"genre-list__link\" href=\"/reviews/albums/?genre=folk\">Folk/Country</a></li><li class=\"genre-list__item\"><a class=\"genre-list__link\" href=\"/reviews/albums/?genre=pop\">Pop/R&amp;B</a></li></ul><ul class=\"authors\"><li><a class=\"linked display-name display-name--linked\" href=\"/staff/julianne-escobedo-shepard/\"><span class=\"by\">by: </span>Julianne Escobedo Shepherd</a></li></ul><time class=\"pub-date\" datetime=\"2024-04-01T04:02:00\" title=\"Mon, 01 Apr 2024 04:02:00 GMT\">18 hrs ago</time></div></div>"
      ]
     },
     "execution_count": 64,
     "metadata": {},
     "output_type": "execute_result"
    }
   ],
   "source": [
    "reviews[0]#.find('a').attrs['href']"
   ]
  },
  {
   "cell_type": "code",
   "execution_count": 63,
   "metadata": {},
   "outputs": [
    {
     "data": {
      "text/plain": [
       "['https://www.pitchfork.com//reviews/albums/beyonce-cowboy-carter/',\n",
       " 'https://www.pitchfork.com//reviews/albums/yung-lean-bladee-psykos/',\n",
       " 'https://www.pitchfork.com//reviews/albums/mizu-forest-scenes/',\n",
       " 'https://www.pitchfork.com//reviews/albums/photek-modus-operandi/',\n",
       " 'https://www.pitchfork.com//reviews/albums/various-artists-funk-br-sao-paulo/',\n",
       " 'https://www.pitchfork.com//reviews/albums/kelly-moran-moves-in-the-field/',\n",
       " 'https://www.pitchfork.com//reviews/albums/nourished-by-time-catching-chickens-ep/',\n",
       " 'https://www.pitchfork.com//reviews/albums/alena-spanger-fire-escape/',\n",
       " 'https://www.pitchfork.com//reviews/albums/1010benja-ten-total/',\n",
       " 'https://www.pitchfork.com//reviews/albums/jlin-akoma/',\n",
       " 'https://www.pitchfork.com//reviews/albums/tatyana-its-over/',\n",
       " 'https://www.pitchfork.com//reviews/albums/future-metro-boomin-we-dont-trust-you/']"
      ]
     },
     "execution_count": 63,
     "metadata": {},
     "output_type": "execute_result"
    }
   ],
   "source": [
    "urls = ['https://www.pitchfork.com/' + review.find('a').attrs['href'] for review in reviews]\n",
    "urls"
   ]
  },
  {
   "cell_type": "code",
   "execution_count": null,
   "metadata": {},
   "outputs": [],
   "source": [
    "def get_reviews()\n",
    "\n",
    "def get_score()\n",
    "\n",
    "def get_text_of_reviews()\n",
    "\n"
   ]
  },
  {
   "cell_type": "markdown",
   "metadata": {},
   "source": [
    "#### Grab all the Trending Beers "
   ]
  },
  {
   "cell_type": "code",
   "execution_count": null,
   "metadata": {},
   "outputs": [],
   "source": []
  },
  {
   "cell_type": "code",
   "execution_count": null,
   "metadata": {},
   "outputs": [],
   "source": []
  },
  {
   "cell_type": "code",
   "execution_count": null,
   "metadata": {},
   "outputs": [],
   "source": []
  },
  {
   "cell_type": "code",
   "execution_count": null,
   "metadata": {},
   "outputs": [],
   "source": [
    "\n"
   ]
  },
  {
   "cell_type": "code",
   "execution_count": null,
   "metadata": {},
   "outputs": [],
   "source": []
  },
  {
   "cell_type": "markdown",
   "metadata": {},
   "source": [
    "## More Issues\n",
    "Sometimes the HTML doesn't appear right away. Maybe you need to simulate clicking on buttons.\n",
    "\n",
    "You can use a headless browser. \n",
    "\n",
    "- Selenium with Chromium will do the job. Here's an article on the topic: https://www.scrapingbee.com/blog/selenium-python/\n",
    "\n",
    "- [Scrapy](https://scrapy.org/) is another option for scraping websites. It makes requests and gets data but is more powerful and complex than requests with BS4.\n",
    "\n",
    "- Your IP address (or username if logged in) can get blocked if you are deemed to be malicious. \n",
    "\n",
    "- DOS (Denial of Service) attacks are real and if you ping a website lots and lots of times quickly you might get blocked, regardless of what robots.txt or the terms of use say.\n",
    "\n",
    "- If you want to scrape repeatedly, make sure the website doesn't get changed andeaking how you grab the data!"
   ]
  },
  {
   "cell_type": "markdown",
   "metadata": {},
   "source": [
    "## Summary\n",
    "\n",
    "You've seen how to use requests with BS4 to get HTML and parse it.\n",
    "\n",
    "Scraping websites is brittle and can be frustrating. But it's pretty cool. 😉\n",
    "\n",
    "### Check for understanding\n",
    "\n",
    "- What requests method do you use to grab HTML?\n",
    "- How do you get HTML content out of the requests object?"
   ]
  }
 ],
 "metadata": {
  "kernelspec": {
   "display_name": "Python 3 (ipykernel)",
   "language": "python",
   "name": "python3"
  },
  "language_info": {
   "codemirror_mode": {
    "name": "ipython",
    "version": 3
   },
   "file_extension": ".py",
   "mimetype": "text/x-python",
   "name": "python",
   "nbconvert_exporter": "python",
   "pygments_lexer": "ipython3",
   "version": "3.11.1"
  }
 },
 "nbformat": 4,
 "nbformat_minor": 4
}
